{
 "cells": [
  {
   "cell_type": "code",
   "execution_count": 2,
   "id": "409b7467-41cd-480a-8081-34f630b9fa9e",
   "metadata": {},
   "outputs": [],
   "source": [
    "from langchain_google_genai import ChatGoogleGenerativeAI\n",
    "from dotenv import load_dotenv # Import load_dotenv\n",
    "import os\n",
    "\n",
    "load_dotenv()\n",
    "\n",
    "google_api_key = os.environ.get(\"GOOGLE_API_KEY\")"
   ]
  },
  {
   "cell_type": "code",
   "execution_count": 13,
   "id": "c71fa249-920f-4b71-a832-993a2dc97fba",
   "metadata": {},
   "outputs": [],
   "source": [
    "llm = ChatGoogleGenerativeAI(model = \"gemini-2.0-flash\", temperature=0, google_api_key=google_api_key)"
   ]
  },
  {
   "cell_type": "code",
   "execution_count": 14,
   "id": "67f9d912-7b53-4b8c-9e44-373f26490196",
   "metadata": {},
   "outputs": [],
   "source": [
    "from langchain_core.messages import HumanMessage\n",
    "msg = HumanMessage(content=\"Hey there fucker\", name=\"Lance\")\n",
    "message_list = [msg]"
   ]
  },
  {
   "cell_type": "code",
   "execution_count": 17,
   "id": "f8f101fc-a34f-43fc-9869-4ef426a3a903",
   "metadata": {},
   "outputs": [
    {
     "data": {
      "text/plain": [
       "AIMessage(content='I am programmed to be a harmless AI assistant. I will not respond to offensive language.', additional_kwargs={}, response_metadata={'prompt_feedback': {'block_reason': 0, 'safety_ratings': []}, 'finish_reason': 'STOP', 'model_name': 'gemini-2.0-flash', 'safety_ratings': []}, id='run--5297cefb-5d82-4273-bcb1-ab34a1985946-0', usage_metadata={'input_tokens': 3, 'output_tokens': 19, 'total_tokens': 22, 'input_token_details': {'cache_read': 0}})"
      ]
     },
     "execution_count": 17,
     "metadata": {},
     "output_type": "execute_result"
    }
   ],
   "source": [
    "llm.invoke(message_list)"
   ]
  },
  {
   "cell_type": "code",
   "execution_count": 18,
   "id": "b96da109-26bf-4869-a8cd-ef77ce7a60fe",
   "metadata": {},
   "outputs": [],
   "source": [
    "from langchain_community.tools.tavily_search import TavilySearchResults\n",
    "\n",
    "tavily_search = TavilySearchResults(max_results=3)\n",
    "search_results = tavily_search.invoke(\"Utkarsh Sharma on LinkedIn\")"
   ]
  },
  {
   "cell_type": "code",
   "execution_count": 19,
   "id": "b19d4171-dc75-4f1e-b134-85577fc4ba59",
   "metadata": {},
   "outputs": [
    {
     "data": {
      "text/plain": [
       "[{'title': 'Utkarsh Sharma - Facebook | LinkedIn',\n",
       "  'url': 'https://uk.linkedin.com/in/utsharma',\n",
       "  'content': \"Experience: Facebook · Education: Indian Institute of Technology, Delhi · Location: London · 500+ connections on LinkedIn. View Utkarsh Sharma's profile on\",\n",
       "  'score': 0.8571119},\n",
       " {'title': '40+ \"Utkarsh Sharma\" profiles - LinkedIn',\n",
       "  'url': 'https://www.linkedin.com/pub/dir/Utkarsh/Sharma/us-0-United-States',\n",
       "  'content': 'View the profiles of professionals named \"Utkarsh Sharma\" on LinkedIn. There are 40+ professionals named \"Utkarsh Sharma\", who use LinkedIn to exchange',\n",
       "  'score': 0.82220376},\n",
       " {'title': '1900+ \"Utkarsh Sharma\" profiles - LinkedIn',\n",
       "  'url': 'https://www.linkedin.com/pub/dir/Utkarsh/Sharma',\n",
       "  'content': 'Utkarsh Sharma, Vice President & Head – Retail Practice, Ecommerce, Consumer Experience, Digital Product Engineering, Operational Excellence, Technology',\n",
       "  'score': 0.8184036}]"
      ]
     },
     "execution_count": 19,
     "metadata": {},
     "output_type": "execute_result"
    }
   ],
   "source": [
    "search_results"
   ]
  }
 ],
 "metadata": {
  "kernelspec": {
   "display_name": "Python (your_env_name)",
   "language": "python",
   "name": "your_env_name"
  },
  "language_info": {
   "codemirror_mode": {
    "name": "ipython",
    "version": 3
   },
   "file_extension": ".py",
   "mimetype": "text/x-python",
   "name": "python",
   "nbconvert_exporter": "python",
   "pygments_lexer": "ipython3",
   "version": "3.11.13"
  }
 },
 "nbformat": 4,
 "nbformat_minor": 5
}
