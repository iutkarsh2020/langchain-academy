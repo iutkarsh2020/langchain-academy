{
 "cells": [
  {
   "cell_type": "markdown",
   "id": "1a39e40e-e333-4ccc-9a03-d68c93ab6fe6",
   "metadata": {},
   "source": [
    "### Editing state once graph is stopped at a state and human feedback"
   ]
  },
  {
   "cell_type": "code",
   "execution_count": 1,
   "id": "feae7b26-d31f-403a-a801-a73e56ee2b0b",
   "metadata": {},
   "outputs": [],
   "source": [
    "import os\n",
    "from dotenv import load_dotenv\n",
    "\n",
    "load_dotenv()\n",
    "\n",
    "GOOGLE_API_KEY = os.environ.get('GOOGLE_API_KEY')"
   ]
  },
  {
   "cell_type": "code",
   "execution_count": 2,
   "id": "ef35f384-24f8-40b7-b1d5-f488c7cdaa13",
   "metadata": {},
   "outputs": [
    {
     "name": "stderr",
     "output_type": "stream",
     "text": [
      "/opt/anaconda3/envs/langchainAcademy/lib/python3.11/site-packages/requests/__init__.py:86: RequestsDependencyWarning: Unable to find acceptable character detection dependency (chardet or charset_normalizer).\n",
      "  warnings.warn(\n"
     ]
    }
   ],
   "source": [
    "from langchain_google_genai import ChatGoogleGenerativeAI\n",
    "llm = ChatGoogleGenerativeAI(model='gemini-2.0-flash', temperature=1.0, google_api_key = GOOGLE_API_KEY)"
   ]
  },
  {
   "cell_type": "code",
   "execution_count": 3,
   "id": "931bb9d2-0b15-4e28-afeb-1abe8c28e542",
   "metadata": {},
   "outputs": [],
   "source": [
    "def multiply(a,b):\n",
    "    ''' Multiple two numbers\n",
    "    Agrs\n",
    "    a: first int\n",
    "    b: second int\n",
    "    '''\n",
    "    return a*b\n",
    "\n",
    "def divide(a, b):\n",
    "    ''' Divide two numbers\n",
    "    Args\n",
    "    a: first int\n",
    "    b: second int\n",
    "    '''\n",
    "    return a/b\n",
    "\n",
    "def add(a,b):\n",
    "    ''' Add two numbers\n",
    "    Args\n",
    "    a: first int\n",
    "    b: second int\n",
    "    '''\n",
    "    return a+b\n",
    "\n",
    "tools = [multiply, add, divide]\n",
    "llm_with_tools = llm.bind_tools(tools)"
   ]
  },
  {
   "cell_type": "code",
   "execution_count": 5,
   "id": "b9f67698-f176-4c20-bccf-302c4a800631",
   "metadata": {},
   "outputs": [
    {
     "data": {
      "image/png": "[encoded data removed]",
      "text/plain": [
       "<langgraph.graph.state.CompiledStateGraph object at 0x111d8c850>"
      ]
     },
     "execution_count": 5,
     "metadata": {},
     "output_type": "execute_result"
    }
   ],
   "source": [
    "from langgraph.graph import START, END, StateGraph\n",
    "from langgraph.graph.message import add_messages\n",
    "from typing import TypedDict, Annotated\n",
    "from langgraph.prebuilt import ToolNode, tools_condition\n",
    "from langgraph.checkpoint.memory import MemorySaver\n",
    "from langchain_core.messages import SystemMessage\n",
    "from langchain_core.messages import HumanMessage, AnyMessage, RemoveMessage\n",
    "\n",
    "class MessagesState(TypedDict):\n",
    "    messages: Annotated[list[str], add_messages]\n",
    "    \n",
    "sys_message = SystemMessage(content = 'You are a helpful assistant tasked with performing arithmetic on a set of inputs')\n",
    "\n",
    "def llm_call(state: MessagesState):\n",
    "    return {'messages': [llm_with_tools.invoke([sys_message] +state['messages'])]}\n",
    "    \n",
    "builder = StateGraph(MessagesState)\n",
    "builder.add_node('Assistant', llm_call)\n",
    "builder.add_node('tools', ToolNode(tools))\n",
    "\n",
    "# LOGIC\n",
    "builder.add_edge(START, 'Assistant')\n",
    "builder.add_conditional_edges('Assistant', tools_condition)\n",
    "builder.add_edge('tools', 'Assistant')\n",
    "\n",
    "memory = MemorySaver()\n",
    "\n",
    "graph = builder.compile(interrupt_before = ['Assistant'], checkpointer = memory)\n",
    "graph"
   ]
  },
  {
   "cell_type": "code",
   "execution_count": 7,
   "id": "1ae6d9cd-0857-4ab6-bff5-b1165a3cf738",
   "metadata": {},
   "outputs": [
    {
     "name": "stdout",
     "output_type": "stream",
     "text": [
      "================================\u001b[1m Human Message \u001b[0m=================================\n",
      "\n",
      "Multiply 2 and 6\n"
     ]
    }
   ],
   "source": [
    "initial_input = {'messages': [HumanMessage(content = 'Multiply 2 and 6')]}\n",
    "thread = {'configurable': {'thread_id': 1}}\n",
    "for event in graph.stream(initial_input, thread, stream_mode = 'values'):\n",
    "    event['messages'][-1].pretty_print()"
   ]
  },
  {
   "cell_type": "code",
   "execution_count": 11,
   "id": "3d002ef3-87b4-4cc5-87ac-7e92d0a67f1e",
   "metadata": {},
   "outputs": [
    {
     "data": {
      "text/plain": [
       "StateSnapshot(values={'messages': [HumanMessage(content='Multiply 2 and 6', additional_kwargs={}, response_metadata={}, id='df47f8d7-b189-4636-b3d6-8ea45e5fb523')]}, next=('Assistant',), config={'configurable': {'thread_id': '1', 'checkpoint_ns': '', 'checkpoint_id': '1f04662d-b90b-67be-8000-5c6e4cdc8400'}}, metadata={'source': 'loop', 'writes': None, 'step': 0, 'parents': {}, 'thread_id': 1}, created_at='2025-06-11T01:24:45.291919+00:00', parent_config={'configurable': {'thread_id': '1', 'checkpoint_ns': '', 'checkpoint_id': '1f04662d-b908-6b90-bfff-1695e6c55c71'}}, tasks=(PregelTask(id='d84a18dc-a5bd-db82-4099-387896f15aa8', name='Assistant', path=('__pregel_pull', 'Assistant'), error=None, interrupts=(), state=None, result=None),), interrupts=())"
      ]
     },
     "execution_count": 11,
     "metadata": {},
     "output_type": "execute_result"
    }
   ],
   "source": [
    "state = graph.get_state(thread)\n",
    "state"
   ]
  },
  {
   "cell_type": "code",
   "execution_count": 12,
   "id": "7e63b441-9d9f-4369-89f6-abcc0b3130f7",
   "metadata": {},
   "outputs": [
    {
     "data": {
      "text/plain": [
       "{'configurable': {'thread_id': '1',\n",
       "  'checkpoint_ns': '',\n",
       "  'checkpoint_id': '1f046634-549d-6e7e-8001-acefaa5b2bd0'}}"
      ]
     },
     "execution_count": 12,
     "metadata": {},
     "output_type": "execute_result"
    }
   ],
   "source": [
    "graph.update_state(\n",
    "    thread,\n",
    "    {'messages': HumanMessage('No, actually multiply 3 and 3')}\n",
    ")"
   ]
  },
  {
   "cell_type": "code",
   "execution_count": 13,
   "id": "1e31b2f2-4278-4ba9-997c-13994e914107",
   "metadata": {},
   "outputs": [
    {
     "data": {
      "text/plain": [
       "StateSnapshot(values={'messages': [HumanMessage(content='Multiply 2 and 6', additional_kwargs={}, response_metadata={}, id='df47f8d7-b189-4636-b3d6-8ea45e5fb523'), HumanMessage(content='No, actually multiply 3 and 3', additional_kwargs={}, response_metadata={}, id='62d97074-6d1b-465f-b3b2-63a22b571b69')]}, next=('Assistant',), config={'configurable': {'thread_id': '1', 'checkpoint_ns': '', 'checkpoint_id': '1f046634-549d-6e7e-8001-acefaa5b2bd0'}}, metadata={'source': 'update', 'writes': {'__start__': {'messages': HumanMessage(content='No, actually multiply 3 and 3', additional_kwargs={}, response_metadata={}, id='62d97074-6d1b-465f-b3b2-63a22b571b69')}}, 'step': 1, 'parents': {}, 'thread_id': '1'}, created_at='2025-06-11T01:27:42.666077+00:00', parent_config={'configurable': {'thread_id': '1', 'checkpoint_ns': '', 'checkpoint_id': '1f04662d-b90b-67be-8000-5c6e4cdc8400'}}, tasks=(PregelTask(id='b03464a5-c567-8018-a0a5-8d3858864714', name='Assistant', path=('__pregel_pull', 'Assistant'), error=None, interrupts=(), state=None, result=None),), interrupts=())"
      ]
     },
     "execution_count": 13,
     "metadata": {},
     "output_type": "execute_result"
    }
   ],
   "source": [
    "new_state = graph.get_state(thread)\n",
    "new_state"
   ]
  },
  {
   "cell_type": "code",
   "execution_count": 14,
   "id": "3046fbac-14c5-4b4d-861a-844c74288001",
   "metadata": {},
   "outputs": [
    {
     "name": "stdout",
     "output_type": "stream",
     "text": [
      "================================\u001b[1m Human Message \u001b[0m=================================\n",
      "\n",
      "No, actually multiply 3 and 3\n",
      "==================================\u001b[1m Ai Message \u001b[0m==================================\n",
      "Tool Calls:\n",
      "  multiply (72d78722-4fd5-4459-9873-8dac3a7f112e)\n",
      " Call ID: 72d78722-4fd5-4459-9873-8dac3a7f112e\n",
      "  Args:\n",
      "    a: 3.0\n",
      "    b: 3.0\n",
      "=================================\u001b[1m Tool Message \u001b[0m=================================\n",
      "Name: multiply\n",
      "\n",
      "9.0\n"
     ]
    }
   ],
   "source": [
    "for event in graph.stream(None, thread, stream_mode = 'values'):\n",
    "    event['messages'][-1].pretty_print()"
   ]
  },
  {
   "cell_type": "code",
   "execution_count": 15,
   "id": "725a238a-8f8a-4e96-b061-ef62890e0581",
   "metadata": {},
   "outputs": [
    {
     "name": "stdout",
     "output_type": "stream",
     "text": [
      "=================================\u001b[1m Tool Message \u001b[0m=================================\n",
      "Name: multiply\n",
      "\n",
      "9.0\n",
      "==================================\u001b[1m Ai Message \u001b[0m==================================\n",
      "\n",
      "OK. The result of multiplying 3 and 3 is 9.\n"
     ]
    }
   ],
   "source": [
    "for event in graph.stream(None, thread, stream_mode = 'values'):\n",
    "    event['messages'][-1].pretty_print()"
   ]
  },
  {
   "cell_type": "markdown",
   "id": "1dc3b652-3037-4588-95dc-694a5dac3371",
   "metadata": {},
   "source": [
    "### Getting user input to modify a state"
   ]
  },
  {
   "cell_type": "code",
   "execution_count": 4,
   "id": "a18b15ff-5d7f-486c-84e6-39b66a21599a",
   "metadata": {},
   "outputs": [
    {
     "data": {
      "image/png": "[encoded data removed]",
      "text/plain": [
       "<langgraph.graph.state.CompiledStateGraph object at 0x11143a390>"
      ]
     },
     "execution_count": 4,
     "metadata": {},
     "output_type": "execute_result"
    }
   ],
   "source": [
    "from langgraph.graph import START, END, StateGraph\n",
    "from langgraph.graph.message import add_messages\n",
    "from typing import TypedDict, Annotated\n",
    "from langgraph.prebuilt import ToolNode, tools_condition\n",
    "from langgraph.checkpoint.memory import MemorySaver\n",
    "from langchain_core.messages import SystemMessage\n",
    "from langchain_core.messages import HumanMessage, AnyMessage, RemoveMessage\n",
    "\n",
    "class MessagesState(TypedDict):\n",
    "    messages: Annotated[list[str], add_messages]\n",
    "\n",
    "sys_message = SystemMessage(content = 'You are a helpful assistant tasked with performing arithmetic on a set of inputs')\n",
    "\n",
    "# this will accept user feedback and inject it to the graph at a particular point\n",
    "def human_feedback(state: MessagesState):\n",
    "    pass\n",
    "\n",
    "def assistant(state: MessagesState):\n",
    "    return {'messages': [llm_with_tools.invoke([sys_message] + state['messages'])]}\n",
    "\n",
    "builder = StateGraph(MessagesState)\n",
    "\n",
    "builder.add_node('Assistant', assistant)\n",
    "builder.add_node('tools', ToolNode(tools))\n",
    "builder.add_node('Human_Feedback', human_feedback)\n",
    "\n",
    "# LOGIC\n",
    "builder.add_edge(START, 'Human_Feedback')\n",
    "builder.add_edge('Human_Feedback', 'Assistant')\n",
    "builder.add_conditional_edges('Assistant', tools_condition)\n",
    "builder.add_edge('tools', 'Human_Feedback')\n",
    "\n",
    "memory = MemorySaver()\n",
    "graph = builder.compile(checkpointer = memory, interrupt_before = ['Human_Feedback'])\n",
    "\n",
    "graph"
   ]
  },
  {
   "cell_type": "code",
   "execution_count": null,
   "id": "3fa843c9-d902-446d-a1f9-4233cc77f673",
   "metadata": {},
   "outputs": [],
   "source": []
  },
  {
   "cell_type": "code",
   "execution_count": 5,
   "id": "58c9fd89-d566-45d2-adfa-e33aaf7edda2",
   "metadata": {},
   "outputs": [
    {
     "name": "stdout",
     "output_type": "stream",
     "text": [
      "================================\u001b[1m Human Message \u001b[0m=================================\n",
      "\n",
      "Add 2 and 8\n"
     ]
    }
   ],
   "source": [
    "initial_input = {'messages': 'Add 2 and 8'}\n",
    "\n",
    "thread = {'configurable': {'thread_id': 10}}\n",
    "\n",
    "for event in graph.stream(initial_input, thread, stream_mode = 'values'):\n",
    "    event['messages'][-1].pretty_print()"
   ]
  },
  {
   "cell_type": "code",
   "execution_count": 6,
   "id": "0ec66830-77da-458f-a6c1-49788b433760",
   "metadata": {},
   "outputs": [
    {
     "name": "stdin",
     "output_type": "stream",
     "text": [
      "Tell me how you want to update the state No, divide 10 by 2\n"
     ]
    }
   ],
   "source": [
    "user_input = input('Tell me how you want to update the state')"
   ]
  },
  {
   "cell_type": "code",
   "execution_count": 7,
   "id": "aa5b63bd-143f-4d07-89ee-e43253fb54ef",
   "metadata": {},
   "outputs": [
    {
     "name": "stdout",
     "output_type": "stream",
     "text": [
      "No, divide 10 by 2\n"
     ]
    },
    {
     "data": {
      "text/plain": [
       "{'configurable': {'thread_id': '10',\n",
       "  'checkpoint_ns': '',\n",
       "  'checkpoint_id': '1f0466dd-25ab-613a-8001-782df18ec868'}}"
      ]
     },
     "execution_count": 7,
     "metadata": {},
     "output_type": "execute_result"
    }
   ],
   "source": [
    "print(user_input)\n",
    "graph.update_state(\n",
    "    thread,\n",
    "    {'messages': [HumanMessage(content= user_input)]}, \n",
    "     as_node = 'Human_Feedback'\n",
    ")"
   ]
  },
  {
   "cell_type": "code",
   "execution_count": 8,
   "id": "00267a75-7283-4bfd-87d2-5c14f01dee8e",
   "metadata": {},
   "outputs": [
    {
     "name": "stdout",
     "output_type": "stream",
     "text": [
      "================================\u001b[1m Human Message \u001b[0m=================================\n",
      "\n",
      "No, divide 10 by 2\n",
      "==================================\u001b[1m Ai Message \u001b[0m==================================\n",
      "Tool Calls:\n",
      "  divide (454ce073-f6f4-4604-b8e8-938f81832665)\n",
      " Call ID: 454ce073-f6f4-4604-b8e8-938f81832665\n",
      "  Args:\n",
      "    b: 2.0\n",
      "    a: 10.0\n",
      "=================================\u001b[1m Tool Message \u001b[0m=================================\n",
      "Name: divide\n",
      "\n",
      "5.0\n"
     ]
    }
   ],
   "source": [
    "for event in graph.stream(None, thread, stream_mode = 'values'):\n",
    "    event['messages'][-1].pretty_print()"
   ]
  },
  {
   "cell_type": "code",
   "execution_count": 9,
   "id": "b45e9c6e-82b1-4a87-9fcb-6275d1e87e8b",
   "metadata": {},
   "outputs": [
    {
     "name": "stdout",
     "output_type": "stream",
     "text": [
      "=================================\u001b[1m Tool Message \u001b[0m=================================\n",
      "Name: divide\n",
      "\n",
      "5.0\n",
      "==================================\u001b[1m Ai Message \u001b[0m==================================\n",
      "\n",
      "I have divided 10 by 2, and the answer is 5.\n"
     ]
    }
   ],
   "source": [
    "for event in graph.stream(None, thread, stream_mode=\"values\"):\n",
    "    event[\"messages\"][-1].pretty_print()"
   ]
  },
  {
   "cell_type": "code",
   "execution_count": 8,
   "id": "94cf3393-ad4a-416b-b0ea-5bd764577c4b",
   "metadata": {},
   "outputs": [
    {
     "name": "stdout",
     "output_type": "stream",
     "text": [
      "================================\u001b[1m Human Message \u001b[0m=================================\n",
      "\n",
      "multiple 2 and 2\n"
     ]
    }
   ],
   "source": [
    "input_message = {'messages': 'multiple 2 and 2'}\n",
    "thread = {'configurable': {'thread_id': 1}}\n",
    "\n",
    "for event in graph.stream(input_message, thread, stream_mode = 'values'):\n",
    "    event['messages'][-1].pretty_print()"
   ]
  },
  {
   "cell_type": "code",
   "execution_count": 11,
   "id": "918d22b4-13d9-4aed-8811-a183176c572a",
   "metadata": {},
   "outputs": [
    {
     "data": {
      "text/plain": [
       "StateSnapshot(values={'messages': [HumanMessage(content='multiple 2 and 2', additional_kwargs={}, response_metadata={}, id='54218850-0d5a-4492-8535-4783f37ad65e')]}, next=('Human_Feedback',), config={'configurable': {'thread_id': '1', 'checkpoint_ns': '', 'checkpoint_id': '1f0466c8-c626-60de-8001-9d7b6f6010d8'}}, metadata={'source': 'loop', 'writes': None, 'step': 1, 'parents': {}, 'thread_id': 1}, created_at='2025-06-11T02:34:07.415507+00:00', parent_config={'configurable': {'thread_id': '1', 'checkpoint_ns': '', 'checkpoint_id': '1f0466c8-c61a-6040-8000-e94968d747e2'}}, tasks=(PregelTask(id='b28a6175-117a-0261-352e-5a861423f02b', name='Human_Feedback', path=('__pregel_pull', 'Human_Feedback'), error=None, interrupts=(), state=None, result=None),), interrupts=())"
      ]
     },
     "execution_count": 11,
     "metadata": {},
     "output_type": "execute_result"
    }
   ],
   "source": [
    "state = graph.get_state(thread)\n",
    "state"
   ]
  },
  {
   "cell_type": "code",
   "execution_count": 12,
   "id": "1ba194fa-daf7-417b-94bd-91abdc314ec6",
   "metadata": {},
   "outputs": [
    {
     "name": "stdout",
     "output_type": "stream",
     "text": [
      "================================\u001b[1m Human Message \u001b[0m=================================\n",
      "\n",
      "multiple 2 and 2\n"
     ]
    }
   ],
   "source": [
    "for event in graph.stream(None, thread, stream_mode = 'values'):\n",
    "    event['messages'][-1].pretty_print()"
   ]
  },
  {
   "cell_type": "code",
   "execution_count": 13,
   "id": "398431b6-d3de-4cd3-b7d5-fce5f9988806",
   "metadata": {},
   "outputs": [
    {
     "data": {
      "text/plain": [
       "StateSnapshot(values={'messages': [HumanMessage(content='multiple 2 and 2', additional_kwargs={}, response_metadata={}, id='54218850-0d5a-4492-8535-4783f37ad65e')]}, next=(), config={'configurable': {'thread_id': '1', 'checkpoint_ns': '', 'checkpoint_id': '1f0466cb-4747-6918-8003-15c56cac0f51'}}, metadata={'source': 'loop', 'writes': {'Assistant': None}, 'step': 3, 'parents': {}, 'thread_id': '1'}, created_at='2025-06-11T02:35:14.642943+00:00', parent_config={'configurable': {'thread_id': '1', 'checkpoint_ns': '', 'checkpoint_id': '1f0466cb-3fb8-6328-8002-94a289d440c3'}}, tasks=(), interrupts=())"
      ]
     },
     "execution_count": 13,
     "metadata": {},
     "output_type": "execute_result"
    }
   ],
   "source": [
    "graph.get_state(thread)"
   ]
  }
 ],
 "metadata": {
  "kernelspec": {
   "display_name": "Python (your_env_name)",
   "language": "python",
   "name": "your_env_name"
  },
  "language_info": {
   "codemirror_mode": {
    "name": "ipython",
    "version": 3
   },
   "file_extension": ".py",
   "mimetype": "text/x-python",
   "name": "python",
   "nbconvert_exporter": "python",
   "pygments_lexer": "ipython3",
   "version": "3.11.13"
  }
 },
 "nbformat": 4,
 "nbformat_minor": 5
}
