{
 "cells": [
  {
   "cell_type": "code",
   "execution_count": 2,
   "id": "b885c315-d01b-47ff-b9ec-2f1c05690228",
   "metadata": {},
   "outputs": [],
   "source": [
    "import os\n",
    "from dotenv import load_dotenv\n",
    "\n",
    "load_dotenv()\n",
    "\n",
    "GOOGLE_API_KEY = os.environ.get(\"GOOGLE_API_KEY\")"
   ]
  },
  {
   "cell_type": "code",
   "execution_count": 5,
   "id": "59d5ec79-cbb7-4ce1-b833-70d91e7f8c62",
   "metadata": {},
   "outputs": [
    {
     "data": {
      "text/plain": [
       "ChatGoogleGenerativeAI(model='models/gemini-2.0-flash', google_api_key=SecretStr('**********'), temperature=0.0, client=<google.ai.generativelanguage_v1beta.services.generative_service.client.GenerativeServiceClient object at 0x12986a6d0>, default_metadata=(), model_kwargs={})"
      ]
     },
     "execution_count": 5,
     "metadata": {},
     "output_type": "execute_result"
    }
   ],
   "source": [
    "from langchain_google_genai import ChatGoogleGenerativeAI\n",
    "llm = ChatGoogleGenerativeAI(model = \"gemini-2.0-flash\", google_api_key=GOOGLE_API_KEY, temperature= 0)\n",
    "llm"
   ]
  },
  {
   "cell_type": "code",
   "execution_count": 6,
   "id": "87472568-a53f-4b87-92d8-1fcfcf0cd6b1",
   "metadata": {},
   "outputs": [],
   "source": [
    "def multiply(a,b):\n",
    "    ''' Multiply two numbers\n",
    "    Arg:\n",
    "    a: first int\n",
    "    b: second int\n",
    "    '''\n",
    "    return a*b\n",
    "\n",
    "def divide(a, b):\n",
    "    ''' Divide two numbers\n",
    "    a: first int\n",
    "    b: second int\n",
    "    '''\n",
    "    return a//b\n",
    "\n",
    "def add(a, b):\n",
    "    ''' Adds two numbers\n",
    "    a: first int\n",
    "    b: second int\n",
    "    ''' \n",
    "    return a+b\n",
    "\n",
    "llm_with_tools = llm.bind_tools([multiply, add, divide])"
   ]
  },
  {
   "cell_type": "code",
   "execution_count": 19,
   "id": "0eed3b4a-ae74-44bf-8f3f-86ffc6ca1438",
   "metadata": {},
   "outputs": [],
   "source": [
    "from langgraph.graph import MessagesState\n",
    "from langchain_core.messages import SystemMessage, AnyMessage, HumanMessage\n",
    "\n",
    "sys_msg = SystemMessage(content=\"You are a helpful assistant tasked with performing arithmetic on a set of inputs\")\n",
    "\n",
    "\n",
    "\n",
    "def tool_calling_agent(state: MessagesState):\n",
    "    return {\"messages\" : [llm_with_tools.invoke([sys_msg] + state[\"messages\"])]}\n",
    "\n"
   ]
  },
  {
   "cell_type": "code",
   "execution_count": 21,
   "id": "a69bc910-201b-477c-81cc-5a1ca981a9a6",
   "metadata": {},
   "outputs": [],
   "source": [
    "from langgraph.graph import START, END, StateGraph\n",
    "from langgraph.prebuilt import ToolNode, tools_condition\n",
    "\n",
    "builder = StateGraph(MessagesState)\n",
    "builder.add_node(\"llm_call\", tool_calling_agent)\n",
    "builder.add_edge(START, \"llm_call\")\n",
    "builder.add_node(\"tools\", ToolNode([multiply, divide, add]))\n",
    "builder.add_conditional_edges(\"llm_call\", tools_condition)\n",
    "builder.add_edge(\"tools\", \"llm_call\")\n",
    "react_graph = builder.compile()"
   ]
  },
  {
   "cell_type": "code",
   "execution_count": 17,
   "id": "205c1c7d-d771-4aeb-a987-cf215f7b23ca",
   "metadata": {},
   "outputs": [
    {
     "data": {
      "image/png": "[encoded data removed]",
      "text/plain": [
       "<langgraph.graph.state.CompiledStateGraph object at 0x12c4235d0>"
      ]
     },
     "execution_count": 17,
     "metadata": {},
     "output_type": "execute_result"
    }
   ],
   "source": [
    "react_graph"
   ]
  },
  {
   "cell_type": "code",
   "execution_count": 23,
   "id": "fd64e196-971b-4492-9338-f90be5a60ef1",
   "metadata": {},
   "outputs": [],
   "source": [
    "messages = [HumanMessage(content=\"Add 2 and 3. Multiply the output by 2, divide the output by 5\")]\n",
    "messages= react_graph.invoke({\"messages\": messages})"
   ]
  },
  {
   "cell_type": "code",
   "execution_count": 24,
   "id": "6ff62537-c9ff-4dfd-86d3-39f141afb993",
   "metadata": {},
   "outputs": [
    {
     "data": {
      "text/plain": [
       "{'messages': [HumanMessage(content='Add 2 and 3. Multiply the output by 2, divide the output by 5', additional_kwargs={}, response_metadata={}, id='a6c7ddff-2e0c-4467-b0c9-c94f53dc1270'),\n",
       "  AIMessage(content='', additional_kwargs={'function_call': {'name': 'add', 'arguments': '{\"b\": 3.0, \"a\": 2.0}'}}, response_metadata={'prompt_feedback': {'block_reason': 0, 'safety_ratings': []}, 'finish_reason': 'STOP', 'model_name': 'gemini-2.0-flash', 'safety_ratings': []}, id='run--48cd937c-f83d-438e-8dd1-9d06fcc23c9a-0', tool_calls=[{'name': 'add', 'args': {'b': 3.0, 'a': 2.0}, 'id': '40d1b2ac-ebe7-4e57-9657-d56b70eabc15', 'type': 'tool_call'}], usage_metadata={'input_tokens': 94, 'output_tokens': 5, 'total_tokens': 99, 'input_token_details': {'cache_read': 0}}),\n",
       "  ToolMessage(content='5.0', name='add', id='e4312f39-a018-4580-8ceb-a4c9570386ad', tool_call_id='40d1b2ac-ebe7-4e57-9657-d56b70eabc15'),\n",
       "  AIMessage(content='', additional_kwargs={'function_call': {'name': 'multiply', 'arguments': '{\"b\": 2.0, \"a\": 5.0}'}}, response_metadata={'prompt_feedback': {'block_reason': 0, 'safety_ratings': []}, 'finish_reason': 'STOP', 'model_name': 'gemini-2.0-flash', 'safety_ratings': []}, id='run--2c3b90aa-0606-44b7-bee9-b41c3180d8bc-0', tool_calls=[{'name': 'multiply', 'args': {'b': 2.0, 'a': 5.0}, 'id': '966a4934-8f8f-4317-8b31-271332fe6bf2', 'type': 'tool_call'}], usage_metadata={'input_tokens': 102, 'output_tokens': 5, 'total_tokens': 107, 'input_token_details': {'cache_read': 0}}),\n",
       "  ToolMessage(content='10.0', name='multiply', id='fd892164-9e35-4726-a7fa-4233dd41ec95', tool_call_id='966a4934-8f8f-4317-8b31-271332fe6bf2'),\n",
       "  AIMessage(content='', additional_kwargs={'function_call': {'name': 'divide', 'arguments': '{\"b\": 5.0, \"a\": 10.0}'}}, response_metadata={'prompt_feedback': {'block_reason': 0, 'safety_ratings': []}, 'finish_reason': 'STOP', 'model_name': 'gemini-2.0-flash', 'safety_ratings': []}, id='run--cbd5acb8-1eb4-4b79-9dd7-32b37ca9010e-0', tool_calls=[{'name': 'divide', 'args': {'b': 5.0, 'a': 10.0}, 'id': 'a54190b4-7890-4b2f-b767-18baa2f4aea2', 'type': 'tool_call'}], usage_metadata={'input_tokens': 110, 'output_tokens': 5, 'total_tokens': 115, 'input_token_details': {'cache_read': 0}}),\n",
       "  ToolMessage(content='2.0', name='divide', id='4da50e62-0360-4fa6-b9c8-3663103c10af', tool_call_id='a54190b4-7890-4b2f-b767-18baa2f4aea2'),\n",
       "  AIMessage(content='The answer is 2.0', additional_kwargs={}, response_metadata={'prompt_feedback': {'block_reason': 0, 'safety_ratings': []}, 'finish_reason': 'STOP', 'model_name': 'gemini-2.0-flash', 'safety_ratings': []}, id='run--35346134-8fb1-45cd-82c0-03ea2f4b3266-0', usage_metadata={'input_tokens': 118, 'output_tokens': 8, 'total_tokens': 126, 'input_token_details': {'cache_read': 0}})]}"
      ]
     },
     "execution_count": 24,
     "metadata": {},
     "output_type": "execute_result"
    }
   ],
   "source": [
    "messages"
   ]
  },
  {
   "cell_type": "code",
   "execution_count": 25,
   "id": "ec4dddca-ee25-4fea-98fe-0e11c72433da",
   "metadata": {},
   "outputs": [
    {
     "name": "stdout",
     "output_type": "stream",
     "text": [
      "================================\u001b[1m Human Message \u001b[0m=================================\n",
      "\n",
      "Add 2 and 3. Multiply the output by 2, divide the output by 5\n",
      "==================================\u001b[1m Ai Message \u001b[0m==================================\n",
      "Tool Calls:\n",
      "  add (40d1b2ac-ebe7-4e57-9657-d56b70eabc15)\n",
      " Call ID: 40d1b2ac-ebe7-4e57-9657-d56b70eabc15\n",
      "  Args:\n",
      "    b: 3.0\n",
      "    a: 2.0\n",
      "=================================\u001b[1m Tool Message \u001b[0m=================================\n",
      "Name: add\n",
      "\n",
      "5.0\n",
      "==================================\u001b[1m Ai Message \u001b[0m==================================\n",
      "Tool Calls:\n",
      "  multiply (966a4934-8f8f-4317-8b31-271332fe6bf2)\n",
      " Call ID: 966a4934-8f8f-4317-8b31-271332fe6bf2\n",
      "  Args:\n",
      "    b: 2.0\n",
      "    a: 5.0\n",
      "=================================\u001b[1m Tool Message \u001b[0m=================================\n",
      "Name: multiply\n",
      "\n",
      "10.0\n",
      "==================================\u001b[1m Ai Message \u001b[0m==================================\n",
      "Tool Calls:\n",
      "  divide (a54190b4-7890-4b2f-b767-18baa2f4aea2)\n",
      " Call ID: a54190b4-7890-4b2f-b767-18baa2f4aea2\n",
      "  Args:\n",
      "    b: 5.0\n",
      "    a: 10.0\n",
      "=================================\u001b[1m Tool Message \u001b[0m=================================\n",
      "Name: divide\n",
      "\n",
      "2.0\n",
      "==================================\u001b[1m Ai Message \u001b[0m==================================\n",
      "\n",
      "The answer is 2.0\n"
     ]
    }
   ],
   "source": [
    "for m in messages['messages']:\n",
    "    m.pretty_print()"
   ]
  },
  {
   "cell_type": "code",
   "execution_count": 26,
   "id": "5bbb21e4-969f-41d4-b608-75315f34fd1e",
   "metadata": {},
   "outputs": [],
   "source": [
    "os.environ['LANGCHAIN_PROJECT'] = \"langchain_academy\"\n"
   ]
  }
 ],
 "metadata": {
  "kernelspec": {
   "display_name": "Python (your_env_name)",
   "language": "python",
   "name": "your_env_name"
  },
  "language_info": {
   "codemirror_mode": {
    "name": "ipython",
    "version": 3
   },
   "file_extension": ".py",
   "mimetype": "text/x-python",
   "name": "python",
   "nbconvert_exporter": "python",
   "pygments_lexer": "ipython3",
   "version": "3.11.13"
  }
 },
 "nbformat": 4,
 "nbformat_minor": 5
}
