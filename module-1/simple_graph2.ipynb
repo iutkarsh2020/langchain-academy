{
 "cells": [
  {
   "cell_type": "code",
   "execution_count": 1,
   "id": "762f137d-00a9-4a05-a612-dfd8a7166ed3",
   "metadata": {},
   "outputs": [],
   "source": [
    "from typing import TypedDict\n",
    "\n",
    "class State(TypedDict):\n",
    "    graph_state: str"
   ]
  },
  {
   "cell_type": "markdown",
   "id": "fd58136a-62d4-45ab-8e64-cdb529b17d6c",
   "metadata": {},
   "source": [
    "** Lets define our nodes"
   ]
  },
  {
   "cell_type": "code",
   "execution_count": 2,
   "id": "48f30a9f-e9b0-4398-bc3e-a5967c0e4501",
   "metadata": {},
   "outputs": [],
   "source": [
    "def node1(state):\n",
    "    print('**** NODE 1 ****')\n",
    "    return {\"graph_state\": state['graph_state'] + \"I am\"}\n",
    "\n",
    "def node2(state):\n",
    "    print('**** NODE 2 ****')\n",
    "    return {\"graph_state\": state['graph_state'] + \" happy\"}\n",
    "\n",
    "def node3(state):\n",
    "    print('**** NODE 3 ****')\n",
    "    return {\"graph_state\": state['graph_state'] + \" sad\"}"
   ]
  },
  {
   "cell_type": "code",
   "execution_count": 3,
   "id": "1e95cf8e-55be-4d1b-87a9-8f1f1a1a4cbf",
   "metadata": {},
   "outputs": [],
   "source": [
    "import random \n",
    "from typing import Literal\n",
    "def decide_mood(state) -> Literal[\"node2\",\"node3\"]:\n",
    "    if random.random() < 0.5:\n",
    "        return \"node2\"\n",
    "    else:\n",
    "        return \"node3\""
   ]
  },
  {
   "cell_type": "markdown",
   "id": "ffdce304-6602-4935-acbc-90997a6ffd0a",
   "metadata": {},
   "source": [
    "** Constructing graph"
   ]
  },
  {
   "cell_type": "code",
   "execution_count": 5,
   "id": "e469f907-2fd0-440f-a397-691fedf5e00f",
   "metadata": {},
   "outputs": [
    {
     "name": "stderr",
     "output_type": "stream",
     "text": [
      "/opt/anaconda3/envs/langchainAcademy/lib/python3.11/site-packages/requests/__init__.py:86: RequestsDependencyWarning: Unable to find acceptable character detection dependency (chardet or charset_normalizer).\n",
      "  warnings.warn(\n"
     ]
    }
   ],
   "source": [
    "from IPython.display import Image, display\n",
    "from langgraph.graph import StateGraph, START, END\n",
    "\n",
    "graph = StateGraph(State)\n",
    "graph.add_node(\"node1\", node1)\n",
    "graph.add_node(\"node2\", node2)\n",
    "graph.add_node(\"node3\", node3)\n",
    "\n",
    "# Logic \n",
    "graph.add_edge(START, \"node1\")\n",
    "graph.add_conditional_edges(\"node1\", decide_mood)\n",
    "graph.add_edge(\"node2\", END)\n",
    "graph.add_edge(\"node3\", END)\n",
    "\n",
    "graph = graph.compile()\n"
   ]
  },
  {
   "cell_type": "code",
   "execution_count": 6,
   "id": "b6a7b647-6fc0-4d3f-af7e-0818263ca95d",
   "metadata": {},
   "outputs": [
    {
     "data": {
      "image/png": "[encoded data removed]",
      "text/plain": [
       "<IPython.core.display.Image object>"
      ]
     },
     "metadata": {},
     "output_type": "display_data"
    }
   ],
   "source": [
    "display(Image(graph.get_graph().draw_mermaid_png()))"
   ]
  },
  {
   "cell_type": "code",
   "execution_count": 16,
   "id": "7cbdac53-f2c1-49e8-9a64-f64c9fb01ffb",
   "metadata": {},
   "outputs": [
    {
     "name": "stdout",
     "output_type": "stream",
     "text": [
      "**** NODE 1 ****\n",
      "**** NODE 3 ****\n"
     ]
    },
    {
     "data": {
      "text/plain": [
       "{'graph_state': 'Hi, this is Utkarsh!I am sad'}"
      ]
     },
     "execution_count": 16,
     "metadata": {},
     "output_type": "execute_result"
    }
   ],
   "source": [
    "graph.invoke({\"graph_state\": \"Hi, this is Utkarsh!\"})"
   ]
  },
  {
   "cell_type": "code",
   "execution_count": null,
   "id": "5b3906db-7c68-460e-876a-18929de28bc3",
   "metadata": {},
   "outputs": [],
   "source": []
  }
 ],
 "metadata": {
  "kernelspec": {
   "display_name": "Python (your_env_name)",
   "language": "python",
   "name": "your_env_name"
  },
  "language_info": {
   "codemirror_mode": {
    "name": "ipython",
    "version": 3
   },
   "file_extension": ".py",
   "mimetype": "text/x-python",
   "name": "python",
   "nbconvert_exporter": "python",
   "pygments_lexer": "ipython3",
   "version": "3.11.13"
  }
 },
 "nbformat": 4,
 "nbformat_minor": 5
}
