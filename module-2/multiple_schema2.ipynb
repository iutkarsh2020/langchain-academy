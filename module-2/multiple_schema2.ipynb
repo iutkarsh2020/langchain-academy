{
 "cells": [
  {
   "cell_type": "code",
   "execution_count": 6,
   "id": "8f176258-ae3e-49e4-806b-06c55e08ddeb",
   "metadata": {},
   "outputs": [],
   "source": [
    "from typing import TypedDict, Annotated\n",
    "from langgraph.graph import START, END, StateGraph\n",
    "import os\n",
    "from dotenv import load_dotenv\n",
    "\n",
    "load_dotenv()\n",
    "\n",
    "GOOGLE_API_KEY = os.environ.get('GOOGLE_API_KEY')\n"
   ]
  },
  {
   "cell_type": "code",
   "execution_count": 7,
   "id": "677f9cdc-c62d-4dc5-8564-4becbb5d5f38",
   "metadata": {},
   "outputs": [],
   "source": [
    "from langchain_google_genai import ChatGoogleGenerativeAI\n",
    "llm = ChatGoogleGenerativeAI(model = 'gemini-2.0-flash', temperature=0, google_api_key = GOOGLE_API_KEY)"
   ]
  },
  {
   "cell_type": "code",
   "execution_count": 8,
   "id": "aa9004bb-3df3-4db3-8643-74045cdbeab4",
   "metadata": {},
   "outputs": [],
   "source": [
    "class OverallState(TypedDict):\n",
    "    foo: int\n",
    "\n",
    "class PrivateState(TypedDict):\n",
    "    baz: int\n",
    "\n",
    "def node1(state: OverallState) -> PrivateState:\n",
    "    print('---- NODE 1 ----')\n",
    "    return {'baz': state['foo']+1}\n",
    "\n",
    "def node2(state: PrivateState) -> OverallState:\n",
    "    print('---- NODE 2 ----')\n",
    "    return {'foo': state['baz']+1}"
   ]
  },
  {
   "cell_type": "code",
   "execution_count": 10,
   "id": "d038a596-04e8-45ca-afd1-4c1e13fdf0e8",
   "metadata": {},
   "outputs": [
    {
     "data": {
      "image/png": "[encoded data removed]",
      "text/plain": [
       "<langgraph.graph.state.CompiledStateGraph object at 0x10cf914d0>"
      ]
     },
     "execution_count": 10,
     "metadata": {},
     "output_type": "execute_result"
    }
   ],
   "source": [
    "from langgraph.checkpoint.memory import MemorySaver\n",
    "config = {'configurable': {'thread_id':1}}\n",
    "builder = StateGraph(OverallState)\n",
    "builder.add_node('node1', node1)\n",
    "builder.add_node('node2', node2)\n",
    "\n",
    "# Logic\n",
    "builder.add_edge(START, 'node1')\n",
    "builder.add_edge('node1', 'node2')\n",
    "builder.add_edge('node2', END)\n",
    "\n",
    "graph = builder.compile(checkpointer = MemorySaver())\n",
    "graph "
   ]
  },
  {
   "cell_type": "code",
   "execution_count": 11,
   "id": "44c1c1c0-d04e-448a-9425-2104e8475bbe",
   "metadata": {},
   "outputs": [
    {
     "name": "stdout",
     "output_type": "stream",
     "text": [
      "---- NODE 1 ----\n",
      "---- NODE 2 ----\n"
     ]
    },
    {
     "data": {
      "text/plain": [
       "{'foo': 3}"
      ]
     },
     "execution_count": 11,
     "metadata": {},
     "output_type": "execute_result"
    }
   ],
   "source": [
    "graph.invoke({'foo': 1},config)"
   ]
  },
  {
   "cell_type": "markdown",
   "id": "5e908df6-7643-4bde-84d3-6a64b7900ec0",
   "metadata": {},
   "source": [
    "### Input/ Output state"
   ]
  },
  {
   "cell_type": "code",
   "execution_count": 13,
   "id": "8b709282-04dd-4027-a5eb-f5fb662cb978",
   "metadata": {},
   "outputs": [],
   "source": [
    "class InputState(TypedDict):\n",
    "    question: str\n",
    "\n",
    "class OutputState(TypedDict):\n",
    "    answer: str\n",
    "\n",
    "class OverallState(TypedDict):\n",
    "    question: str\n",
    "    answer: str\n",
    "    notes: str\n",
    "\n",
    "def thinking_node(state: InputState) -> OverallState:\n",
    "    return {'answer': 'bye', 'notes': '... his name is Utkarsh'}\n",
    "\n",
    "def answer_node(state: OverallState) -> OutputState:\n",
    "    return {'answer': 'bye Utkarsh'}\n",
    "# Overallstate = the overall state graph will track\n",
    "# Inputstate = the subset of overall state that user can send as input\n",
    "# Outputstate = the subset of overall state that graph will send as output\n",
    "graph = StateGraph(OverallState, input=InputState, output = OutputState)"
   ]
  }
 ],
 "metadata": {
  "kernelspec": {
   "display_name": "Python (your_env_name)",
   "language": "python",
   "name": "your_env_name"
  },
  "language_info": {
   "codemirror_mode": {
    "name": "ipython",
    "version": 3
   },
   "file_extension": ".py",
   "mimetype": "text/x-python",
   "name": "python",
   "nbconvert_exporter": "python",
   "pygments_lexer": "ipython3",
   "version": "3.11.13"
  }
 },
 "nbformat": 4,
 "nbformat_minor": 5
}
