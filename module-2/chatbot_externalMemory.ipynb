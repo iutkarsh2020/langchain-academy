{
 "cells": [
  {
   "cell_type": "markdown",
   "id": "3e355a04-9864-4ffb-930a-4e18663f4ec1",
   "metadata": {},
   "source": [
    "### Langraph support external checkpointer databases to have long term memory of a chat"
   ]
  },
  {
   "cell_type": "code",
   "execution_count": 2,
   "id": "a2037791-1fe9-4bf0-b672-8455040c0ecf",
   "metadata": {},
   "outputs": [],
   "source": [
    "import sqlite3\n",
    "# in memory\n",
    "conn = sqlite3.connect(':memory:')"
   ]
  },
  {
   "cell_type": "code",
   "execution_count": 16,
   "id": "ff831c58-7e2f-4d0f-86d8-c90bac7fb5ce",
   "metadata": {},
   "outputs": [],
   "source": [
    "import os\n",
    "from dotenv import load_dotenv\n",
    "\n",
    "load_dotenv()\n",
    "\n",
    "GOOGLE_API_KEY = os.environ.get('GOOGLE_API_KEY')"
   ]
  },
  {
   "cell_type": "code",
   "execution_count": 17,
   "id": "6c8bac4a-c575-4094-8114-2f4573649242",
   "metadata": {},
   "outputs": [],
   "source": [
    "from langchain_google_genai import ChatGoogleGenerativeAI\n",
    "\n",
    "llm = ChatGoogleGenerativeAI(model='gemini-2.0-flash', temperature=0, google_api_key = GOOGLE_API_KEY)"
   ]
  },
  {
   "cell_type": "code",
   "execution_count": 3,
   "id": "03d8aa1f-f2ae-4cf0-80b6-94e5c7044237",
   "metadata": {},
   "outputs": [],
   "source": [
    "# use local db\n",
    "db_path = 'state_db/example.db'\n",
    "conn = sqlite3.connect(db_path, check_same_thread=False)"
   ]
  },
  {
   "cell_type": "code",
   "execution_count": 4,
   "id": "8684957a-cae5-4561-8339-81a4358dac65",
   "metadata": {},
   "outputs": [],
   "source": [
    "from langgraph.checkpoint.sqlite import SqliteSaver\n",
    "memory = SqliteSaver(conn)"
   ]
  },
  {
   "cell_type": "code",
   "execution_count": 9,
   "id": "ab0ed06d-56a8-4592-b5b9-408237ba70eb",
   "metadata": {},
   "outputs": [],
   "source": [
    "from typing import TypedDict, Annotated\n",
    "from langgraph.graph.message import add_messages\n",
    "class MessagesState(TypedDict):\n",
    "    messages: Annotated[list[str], add_messages]\n",
    "    summary: str"
   ]
  },
  {
   "cell_type": "code",
   "execution_count": 10,
   "id": "5f86a3f3-1a7a-4588-ad05-f26f08f56fc4",
   "metadata": {},
   "outputs": [],
   "source": [
    "from langchain_core.messages import SystemMessage, HumanMessage, AnyMessage, RemoveMessage\n",
    "\n",
    "def call_model(state: MessagesState):\n",
    "    summary = state['summary']\n",
    "    if summary:\n",
    "        system_message = f'Summary of conversation earlier: {summary}'\n",
    "        messages = [SystemMessage(content = system_message)] + state['messages']\n",
    "    else:\n",
    "        messages = state['messages']\n",
    "\n",
    "    return {'messages': llm.invoke(messages)}\n",
    "\n",
    "def summarize_conversation(state: MessagesState):\n",
    "    summary = state['summary']\n",
    "    if summary:\n",
    "        summary_message = (\n",
    "            f\" This is the summary of the conversation to date: {summary}\\n\\n\"\n",
    "            \" Extend the summary by taking into account the new messages above:\"\n",
    "        )\n",
    "\n",
    "    else:\n",
    "        summary_message = \"Create a summary of the conversation above:\"\n",
    "\n",
    "    messages = state['messages'] + [HumanMessage(content = summary_message)]\n",
    "    response = llm.invoke(messages)\n",
    "\n",
    "    # now we delete all but last 2 messages from our messages\n",
    "    deleted_messages = [RemoveMessage(id = m.id) for m in state['messages'][: -3]]\n",
    "    return {'summary': response.content, 'messages': deleted_messages}"
   ]
  },
  {
   "cell_type": "code",
   "execution_count": 12,
   "id": "c83f3428-2c74-4fd9-b0ab-7c7a9b5ccded",
   "metadata": {},
   "outputs": [],
   "source": [
    "from langgraph.graph import END\n",
    "\n",
    "def should_continue(state: MessagesState):\n",
    "    messages = state['messages']\n",
    "\n",
    "    if len(messages) > 6:\n",
    "        return 'summarize_conversation'\n",
    "\n",
    "    return END\n",
    "\n"
   ]
  },
  {
   "cell_type": "code",
   "execution_count": 13,
   "id": "91d0c8cf-a8f5-4c55-a9e2-b9fd41cf412c",
   "metadata": {},
   "outputs": [
    {
     "data": {
      "image/png": "[encoded data removed]",
      "text/plain": [
       "<langgraph.graph.state.CompiledStateGraph object at 0x10a8e35d0>"
      ]
     },
     "execution_count": 13,
     "metadata": {},
     "output_type": "execute_result"
    }
   ],
   "source": [
    "from langgraph.checkpoint.memory import MemorySaver\n",
    "from langgraph.graph import StateGraph, START\n",
    "from IPython.display import Image, display\n",
    "\n",
    "workflow = StateGraph(MessagesState)\n",
    "workflow.add_node('conversation', call_model)\n",
    "workflow.add_node(summarize_conversation)\n",
    "\n",
    "workflow.add_edge(START, 'conversation')\n",
    "workflow.add_conditional_edges('conversation',\n",
    "  should_continue,\n",
    "  path_map={'summarize_conversation': 'summarize_conversation', '__end__': '__end__'})\n",
    "workflow.add_edge('summarize_conversation', END)\n",
    "\n",
    "memory = MemorySaver()\n",
    "\n",
    "graph = workflow.compile(checkpointer = memory)\n",
    "graph"
   ]
  },
  {
   "cell_type": "code",
   "execution_count": 22,
   "id": "b2d80f41-40b7-468f-8fb4-c2fca8374a0c",
   "metadata": {},
   "outputs": [
    {
     "name": "stdout",
     "output_type": "stream",
     "text": [
      "================================\u001b[1m Human Message \u001b[0m=================================\n",
      "\n",
      "Hi! I am Utkarsh\n",
      "==================================\u001b[1m Ai Message \u001b[0m==================================\n",
      "\n",
      "Hi Utkarsh! It's nice to meet you. How can I help you today?\n",
      "================================\u001b[1m Human Message \u001b[0m=================================\n",
      "\n",
      "Hi! I am Utkarsh\n",
      "==================================\u001b[1m Ai Message \u001b[0m==================================\n",
      "\n",
      "Hi Utkarsh! It's nice to meet you. How can I help you today?\n"
     ]
    }
   ],
   "source": [
    "config = {'configurable': {'thread_id': 1}}\n",
    "input_message = HumanMessage(content = 'Hi! I am Utkarsh')\n",
    "output = graph.invoke({'messages': [input_message], 'summary': ''}, config)\n",
    "\n",
    "for m in output['messages']:\n",
    "    m.pretty_print()"
   ]
  },
  {
   "cell_type": "code",
   "execution_count": 23,
   "id": "404e5ef6-eab3-4f42-88cc-43d4f34b586b",
   "metadata": {},
   "outputs": [
    {
     "name": "stdout",
     "output_type": "stream",
     "text": [
      "================================\u001b[1m Human Message \u001b[0m=================================\n",
      "\n",
      "Hi! I am Utkarsh\n",
      "==================================\u001b[1m Ai Message \u001b[0m==================================\n",
      "\n",
      "Hi Utkarsh! It's nice to meet you. How can I help you today?\n",
      "================================\u001b[1m Human Message \u001b[0m=================================\n",
      "\n",
      "Hi! I am Utkarsh\n",
      "==================================\u001b[1m Ai Message \u001b[0m==================================\n",
      "\n",
      "Hi Utkarsh! It's nice to meet you. How can I help you today?\n",
      "================================\u001b[1m Human Message \u001b[0m=================================\n",
      "\n",
      "What is my name?\n",
      "==================================\u001b[1m Ai Message \u001b[0m==================================\n",
      "\n",
      "Your name is Utkarsh.\n"
     ]
    }
   ],
   "source": [
    "input_message = HumanMessage(content = 'What is my name?')\n",
    "output = graph.invoke({'messages': [input_message], 'summary': ''}, config)\n",
    "\n",
    "for m in output['messages']:\n",
    "    m.pretty_print()"
   ]
  },
  {
   "cell_type": "code",
   "execution_count": 24,
   "id": "01f64e62-897a-48b7-90ee-976c1a2d0d44",
   "metadata": {},
   "outputs": [
    {
     "name": "stdout",
     "output_type": "stream",
     "text": [
      "==================================\u001b[1m Ai Message \u001b[0m==================================\n",
      "\n",
      "Your name is Utkarsh.\n",
      "================================\u001b[1m Human Message \u001b[0m=================================\n",
      "\n",
      "I like the 49ers\n",
      "==================================\u001b[1m Ai Message \u001b[0m==================================\n",
      "\n",
      "That's great! It's good to have a favorite team. What do you like about the 49ers? Are you excited about the upcoming season?\n"
     ]
    }
   ],
   "source": [
    "input_message = HumanMessage(content = 'I like the 49ers')\n",
    "output = graph.invoke({'messages': [input_message], 'summary': ''}, config)\n",
    "\n",
    "for m in output['messages']:\n",
    "    m.pretty_print()"
   ]
  }
 ],
 "metadata": {
  "kernelspec": {
   "display_name": "Python (your_env_name)",
   "language": "python",
   "name": "your_env_name"
  },
  "language_info": {
   "codemirror_mode": {
    "name": "ipython",
    "version": 3
   },
   "file_extension": ".py",
   "mimetype": "text/x-python",
   "name": "python",
   "nbconvert_exporter": "python",
   "pygments_lexer": "ipython3",
   "version": "3.11.13"
  }
 },
 "nbformat": 4,
 "nbformat_minor": 5
}
