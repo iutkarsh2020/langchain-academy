{
 "cells": [
  {
   "cell_type": "code",
   "execution_count": 15,
   "id": "97ecb4c8-5296-42f9-9220-3c3c13418efc",
   "metadata": {},
   "outputs": [],
   "source": [
    "import os\n",
    "from dotenv import load_dotenv\n",
    "\n",
    "load_dotenv()\n",
    "\n",
    "GOOGLE_API_KEY = os.environ.get('GOOGLE_API_KEY')"
   ]
  },
  {
   "cell_type": "code",
   "execution_count": 16,
   "id": "7cbb41ee-0297-46a6-95eb-b35101805e38",
   "metadata": {},
   "outputs": [],
   "source": [
    "from langchain_google_genai import ChatGoogleGenerativeAI\n",
    "llm = ChatGoogleGenerativeAI(model = 'gemini-2.0-flash', temperature= 0, google_api_key = GOOGLE_API_KEY)"
   ]
  },
  {
   "cell_type": "code",
   "execution_count": 17,
   "id": "769da05c-fce1-4611-bd56-d0efee7986ab",
   "metadata": {},
   "outputs": [
    {
     "name": "stdout",
     "output_type": "stream",
     "text": [
      "==================================\u001b[1m Ai Message \u001b[0m==================================\n",
      "Name: Bot\n",
      "\n",
      "So you said you were researching ocean mamals?\n",
      "================================\u001b[1m Human Message \u001b[0m=================================\n",
      "Name: Utkarsh\n",
      "\n",
      "Yes, I know about whales. But, what others should I learn about?\n"
     ]
    }
   ],
   "source": [
    "from langchain_core.messages import AnyMessage, HumanMessage, AIMessage, SystemMessage\n",
    "messages = [AIMessage(content = 'So you said you were researching ocean mamals?', name = 'Bot')]\n",
    "messages.append(HumanMessage(content = 'Yes, I know about whales. But, what others should I learn about?', name= 'Utkarsh'))\n",
    "for m in messages:\n",
    "    m.pretty_print()"
   ]
  },
  {
   "cell_type": "code",
   "execution_count": 6,
   "id": "1aa25ebe-f1cf-44af-8101-99cf7c1bea93",
   "metadata": {},
   "outputs": [
    {
     "data": {
      "text/plain": [
       "AIMessage(content='Okay, great! Whales are a good start. To broaden your knowledge of ocean mammals, here\\'s a breakdown of other key groups and some interesting examples within each:\\n\\n**1. Pinnipeds (Seals, Sea Lions, and Walruses):**\\n\\n*   **General Characteristics:** These are semi-aquatic mammals with flippers for swimming and movement on land. They are carnivores, feeding primarily on fish, squid, and crustaceans.\\n*   **Seals (True Seals or Phocids):**\\n    *   **Key Features:** Lack external ear flaps, have shorter flippers, and move on land by wriggling their bodies.\\n    *   **Examples:** Harbor Seal, Grey Seal, Ringed Seal, Elephant Seal (largest pinniped).\\n*   **Sea Lions (Eared Seals or Otariids):**\\n    *   **Key Features:** Have external ear flaps, longer flippers, and can \"walk\" on land by rotating their hind flippers forward.\\n    *   **Examples:** California Sea Lion, Steller Sea Lion, Galapagos Sea Lion.\\n*   **Walruses:**\\n    *   **Key Features:** Distinctive for their tusks (elongated canine teeth), whiskers (vibrissae), and thick blubber.\\n    *   **Example:** The only living species is the Atlantic Walrus.\\n\\n**2. Sirenians (Dugongs and Manatees):**\\n\\n*   **General Characteristics:** Herbivorous, aquatic mammals often called \"sea cows.\" They have a streamlined body, flippers, and a flattened tail.\\n*   **Manatees:**\\n    *   **Key Features:** Rounded, paddle-shaped tail. Found in warm coastal waters and rivers of the Americas and West Africa.\\n    *   **Examples:** West Indian Manatee (Florida Manatee), Amazonian Manatee, West African Manatee.\\n*   **Dugongs:**\\n    *   **Key Features:** Forked, dolphin-like tail. Found in warm coastal waters of the Indian and Pacific Oceans.\\n    *   **Example:** Dugong (only living species in its family).\\n\\n**3. Sea Otters:**\\n\\n*   **General Characteristics:** Smallest marine mammal in North America. They are known for their thick fur, which insulates them in cold waters. They use tools (rocks) to open shellfish.\\n*   **Key Features:** Dense fur, dexterous paws, and a diet of sea urchins, crabs, and other invertebrates.\\n*   **Examples:** Sea Otter (Enhydra lutris)\\n\\n**4. Marine Fissipeds (Polar Bears):**\\n\\n*   **General Characteristics:** Polar bears are considered marine mammals because they spend a significant portion of their lives on sea ice, hunting seals and other marine animals.\\n*   **Key Features:** Thick fur, large paws for swimming and walking on ice, and a diet primarily of seals.\\n*   **Examples:** Polar Bear (Ursus maritimus)\\n\\n**Things to Consider When Learning About These Animals:**\\n\\n*   **Habitat:** Where do they live? What are the characteristics of their environment?\\n*   **Diet:** What do they eat? How do they obtain their food?\\n*   **Social Behavior:** Are they solitary or social animals? What are their social structures?\\n*   **Conservation Status:** Are they endangered, threatened, or stable? What are the threats they face?\\n*   **Adaptations:** What physical and behavioral adaptations do they have that allow them to survive in their environment?\\n\\n**Where to Start Your Research:**\\n\\n*   **Online Resources:**\\n    *   NOAA Fisheries (National Oceanic and Atmospheric Administration)\\n    *   WWF (World Wildlife Fund)\\n    *   National Geographic\\n    *   The Marine Mammal Center\\n*   **Books:** Look for books on marine mammals at your local library or bookstore.\\n*   **Documentaries:** Many excellent documentaries explore the lives of marine mammals.\\n\\nBy exploring these different groups and considering the factors above, you\\'ll gain a much more comprehensive understanding of the fascinating world of ocean mammals!  Let me know if you want to dive deeper into any specific group or aspect.', additional_kwargs={}, response_metadata={'prompt_feedback': {'block_reason': 0, 'safety_ratings': []}, 'finish_reason': 'STOP', 'model_name': 'gemini-2.0-flash', 'safety_ratings': []}, id='run--d4e4ee85-6a82-4df6-bc85-fe1dba16807d-0', usage_metadata={'input_tokens': 26, 'output_tokens': 877, 'total_tokens': 903, 'input_token_details': {'cache_read': 0}})"
      ]
     },
     "execution_count": 6,
     "metadata": {},
     "output_type": "execute_result"
    }
   ],
   "source": []
  },
  {
   "cell_type": "code",
   "execution_count": 18,
   "id": "490baf02-03d6-48b6-9817-4267b483f202",
   "metadata": {},
   "outputs": [],
   "source": [
    "from langgraph.graph import MessagesState\n",
    "from langgraph.graph import StateGraph, START, END\n",
    "\n",
    "# Node\n",
    "def chat_model_node(state: MessagesState):\n",
    "    return {\"messages\": llm.invoke(state[\"messages\"])}\n",
    "\n",
    "# Build graph\n",
    "builder = StateGraph(MessagesState)\n",
    "builder.add_node(\"chat_model\", chat_model_node)\n",
    "builder.add_edge(START, \"chat_model\")\n",
    "builder.add_edge(\"chat_model\", END)\n",
    "graph = builder.compile()\n"
   ]
  },
  {
   "cell_type": "code",
   "execution_count": 19,
   "id": "229476e9-6f4d-4b40-8068-4bd14bbba267",
   "metadata": {},
   "outputs": [
    {
     "data": {
      "image/png": "[encoded data removed]",
      "text/plain": [
       "<langgraph.graph.state.CompiledStateGraph object at 0x10fba6390>"
      ]
     },
     "execution_count": 19,
     "metadata": {},
     "output_type": "execute_result"
    }
   ],
   "source": [
    "graph"
   ]
  },
  {
   "cell_type": "code",
   "execution_count": 26,
   "id": "984e71da-e282-413a-9669-08ac376cce0d",
   "metadata": {},
   "outputs": [],
   "source": [
    "messages = graph.invoke({'messages': messages})"
   ]
  },
  {
   "cell_type": "code",
   "execution_count": 27,
   "id": "10bf9d14-86d2-40aa-946e-c3c1f20a328e",
   "metadata": {},
   "outputs": [
    {
     "name": "stdout",
     "output_type": "stream",
     "text": [
      "==================================\u001b[1m Ai Message \u001b[0m==================================\n",
      "Name: Bot\n",
      "\n",
      "So you said you were researching ocean mamals?\n",
      "================================\u001b[1m Human Message \u001b[0m=================================\n",
      "Name: Utkarsh\n",
      "\n",
      "Yes, I know about whales. But, what others should I learn about?\n",
      "==================================\u001b[1m Ai Message \u001b[0m==================================\n",
      "\n",
      "Okay, great! Since you know about whales, let's explore some other fascinating ocean mammals. Here's a breakdown of different types and some specific examples you might find interesting:\n",
      "\n",
      "**1. Dolphins and Porpoises (Cetaceans - Odontocetes):**\n",
      "\n",
      "*   **Why learn about them?** They're highly intelligent, social animals with complex communication systems. They're also often found interacting with humans.\n",
      "*   **Examples:**\n",
      "    *   **Bottlenose Dolphin:** The classic dolphin, often seen in aquariums and popular culture.\n",
      "    *   **Spinner Dolphin:** Known for their acrobatic leaps and spins out of the water.\n",
      "    *   **Harbor Porpoise:** Smaller and more elusive than dolphins, often found in coastal waters.\n",
      "    *   **Dall's Porpoise:** The fastest of all small cetaceans.\n",
      "\n",
      "**2. Seals, Sea Lions, and Walruses (Pinnipeds):**\n",
      "\n",
      "*   **Why learn about them?** They're adapted to both land and sea, with distinct physical characteristics and behaviors.\n",
      "*   **Key Differences:** Seals lack external ear flaps and use their front flippers for swimming, while sea lions have ear flaps and use their front flippers for propulsion. Walruses are known for their tusks.\n",
      "*   **Examples:**\n",
      "    *   **Harbor Seal:** Common and relatively docile seals found in coastal areas.\n",
      "    *   **California Sea Lion:** Noisy and playful, often seen in harbors and marinas.\n",
      "    *   **Elephant Seal:** Massive seals with a distinctive proboscis (nose) on the males.\n",
      "    *   **Walrus:** Arctic pinnipeds with prominent tusks used for foraging and defense.\n",
      "\n",
      "**3. Sea Otters (Mustelids):**\n",
      "\n",
      "*   **Why learn about them?** They're the smallest marine mammals in North America and play a crucial role in kelp forest ecosystems.\n",
      "*   **Key Features:** They use tools (rocks) to crack open shellfish and have incredibly dense fur.\n",
      "\n",
      "**4. Manatees and Dugongs (Sirenians):**\n",
      "\n",
      "*   **Why learn about them?** These gentle giants are herbivores, often called \"sea cows,\" and are vulnerable to habitat loss and boat strikes.\n",
      "*   **Key Differences:** Manatees have paddle-shaped tails, while dugongs have fluke-like tails similar to dolphins.\n",
      "*   **Examples:**\n",
      "    *   **West Indian Manatee:** Found in the southeastern United States and the Caribbean.\n",
      "    *   **Dugong:** Found in the Indo-Pacific region.\n",
      "\n",
      "**5. Polar Bears (Ursids):**\n",
      "\n",
      "*   **Why learn about them?** They're highly specialized predators adapted to Arctic environments and are facing significant threats from climate change.\n",
      "*   **Key Features:** They have thick fur and a layer of blubber for insulation, and they rely on sea ice for hunting seals.\n",
      "\n",
      "**To help you decide where to focus, consider these questions:**\n",
      "\n",
      "*   **What aspects of ocean mammals interest you most?** (e.g., intelligence, behavior, conservation, anatomy, evolution)\n",
      "*   **Are you interested in a particular geographic region?** (e.g., Arctic, tropical, coastal)\n",
      "*   **Do you want to focus on a specific threat to ocean mammals?** (e.g., climate change, pollution, overfishing)\n",
      "\n",
      "Once you have a better idea of your interests, I can provide more specific resources and information.  For example, if you're interested in conservation, we could talk about the threats facing specific species and the efforts being made to protect them.\n",
      "\n",
      "Which of these groups sounds most interesting to you right now? Or, tell me what you find most fascinating about whales, and I can suggest similar animals to learn about.\n"
     ]
    }
   ],
   "source": [
    "for m in messages['messages']:\n",
    "    m.pretty_print()"
   ]
  },
  {
   "cell_type": "markdown",
   "id": "e9d984d7-fbea-4803-821f-920b1c933d4f",
   "metadata": {},
   "source": [
    "### We Will reduce size of messages to have lesser tokens now"
   ]
  },
  {
   "cell_type": "code",
   "execution_count": 34,
   "id": "49590c44-a3e0-4823-bde5-72455b994735",
   "metadata": {},
   "outputs": [
    {
     "data": {
      "image/png": "[encoded data removed]",
      "text/plain": [
       "<langgraph.graph.state.CompiledStateGraph object at 0x11b85e990>"
      ]
     },
     "execution_count": 34,
     "metadata": {},
     "output_type": "execute_result"
    }
   ],
   "source": [
    "from langchain_core.messages import RemoveMessage\n",
    "from typing import TypedDict, Annotated\n",
    "from langgraph.graph.message import add_messages\n",
    "\n",
    "class MessagesState(TypedDict):\n",
    "    messages: Annotated[list[str], add_messages]\n",
    "\n",
    "def filter_message(state: MessagesState):\n",
    "    delete_messages = [RemoveMessage(id = m.id) for m in state['messages'][:-2]]\n",
    "    return {'messages': delete_messages}\n",
    "\n",
    "def chat_model_node(state: MessagesState):\n",
    "    return {'messages': [llm.invoke(state['messages'])]}\n",
    "\n",
    "\n",
    "builder = StateGraph(MessagesState)\n",
    "builder.add_node('filter', filter_message)\n",
    "builder.add_node('llm_call', chat_model_node)\n",
    "\n",
    "# Logic\n",
    "builder.add_edge(START, 'filter')\n",
    "builder.add_edge('filter', 'llm_call')\n",
    "builder.add_edge('llm_call', END)\n",
    "graph = builder.compile()\n",
    "\n",
    "graph"
   ]
  },
  {
   "cell_type": "code",
   "execution_count": 35,
   "id": "7a7cb1e7-7e17-4be7-99d2-69a899b4b855",
   "metadata": {},
   "outputs": [
    {
     "name": "stdout",
     "output_type": "stream",
     "text": [
      "================================\u001b[1m Human Message \u001b[0m=================================\n",
      "Name: Lance\n",
      "\n",
      "Hi.\n",
      "==================================\u001b[1m Ai Message \u001b[0m==================================\n",
      "Name: Bot\n",
      "\n",
      "So you said you were researching ocean mammals?\n",
      "================================\u001b[1m Human Message \u001b[0m=================================\n",
      "Name: Lance\n",
      "\n",
      "Yes, I know about whales. But what others should I learn about?\n",
      "==================================\u001b[1m Ai Message \u001b[0m==================================\n",
      "\n",
      "Okay, great! Besides whales (which are cetaceans), there's a whole fascinating world of marine mammals to explore. To give you the best recommendations, tell me a little more about what interests you. For example:\n",
      "\n",
      "*   **What aspects of marine mammals are you most interested in?** (e.g., their behavior, conservation status, physical adaptations, where they live, etc.)\n",
      "*   **Are you looking for animals similar to whales, or something completely different?**\n",
      "*   **Are you interested in learning about common or rare species?**\n",
      "\n",
      "In the meantime, here are some broad categories of marine mammals besides whales, with a few examples to get you started:\n",
      "\n",
      "*   **Pinnipeds:** These are the seals, sea lions, and walruses. They're characterized by their flippers and ability to live both on land and in the water.\n",
      "    *   **Examples:** Harbor Seal, California Sea Lion, Walrus\n",
      "*   **Sirenians:** These are the \"sea cows,\" including manatees and dugongs. They're herbivores and live in warm, shallow waters.\n",
      "    *   **Examples:** West Indian Manatee, Dugong\n",
      "*   **Sea Otters:** These playful creatures are the smallest marine mammals in North America and are known for using tools.\n",
      "*   **Polar Bears:** Highly adapted to Arctic environments, they rely on sea ice for hunting seals.\n",
      "\n",
      "Once I know what you're most interested in, I can give you more specific and helpful suggestions!\n"
     ]
    }
   ],
   "source": [
    "messages = [AIMessage(\"Hi.\", name=\"Bot\", id=\"1\")]\n",
    "messages.append(HumanMessage(\"Hi.\", name=\"Lance\", id=\"2\"))\n",
    "messages.append(AIMessage(\"So you said you were researching ocean mammals?\", name=\"Bot\", id=\"3\"))\n",
    "messages.append(HumanMessage(\"Yes, I know about whales. But what others should I learn about?\", name=\"Lance\", id=\"4\"))\n",
    "\n",
    "output = graph.invoke({'messages': messages})\n",
    "for m in output['messages']:\n",
    "    m.pretty_print()"
   ]
  },
  {
   "cell_type": "markdown",
   "id": "2e54b9d9-c3f8-4667-a16c-d9280567dd36",
   "metadata": {},
   "source": [
    "## Lets try trimming messages (You can trim messages based on specified number of tokens) - LLMS HAVE CONTEXT WINDOWS WITH A PARTICULAR TOKEN LENGTH SO IT IS HIGHLY RELEVANT "
   ]
  },
  {
   "cell_type": "code",
   "execution_count": 38,
   "id": "8181bab7-0620-4ba6-a949-191b4286731e",
   "metadata": {},
   "outputs": [],
   "source": [
    "from langchain_core.messages import trim_messages \n",
    "from langgraph.checkpoint.memory import MemorySaver\n",
    "\n",
    "def chat_model_node(state: MessagesState):\n",
    "    messages = trim_messages(\n",
    "        state['messages'],\n",
    "        max_tokens = 100,\n",
    "        strategy = 'last',\n",
    "        allow_partial = True,\n",
    "        token_counter = ChatGoogleGenerativeAI(model='gemini-2.0-flash')\n",
    "    )\n",
    "\n",
    "    return {'messages': [llm.invoke(messages)]}\n",
    "\n",
    "builder = StateGraph(MessagesState)\n",
    "builder.add_node('chat_model', chat_model_node)\n",
    "# logic\n",
    "builder.add_edge(START, 'chat_model')\n",
    "builder.add_edge('chat_model', END)\n",
    "\n",
    "graph_memory = builder.compile()"
   ]
  },
  {
   "cell_type": "code",
   "execution_count": 39,
   "id": "c370749c-1a58-449f-8b15-667c190cab93",
   "metadata": {},
   "outputs": [],
   "source": [
    "messages = [AIMessage(\"Hi.\", name=\"Bot\", id=\"1\")]\n",
    "messages.append(HumanMessage(\"Hi.\", name=\"Lance\", id=\"2\"))\n",
    "messages.append(AIMessage(\"So you said you were researching ocean mammals?\", name=\"Bot\", id=\"3\"))\n",
    "messages.append(HumanMessage(\"Yes, I know about whales. But what others should I learn about?\", name=\"Lance\", id=\"4\"))"
   ]
  },
  {
   "cell_type": "code",
   "execution_count": 57,
   "id": "d1e7d60a-7b69-4360-9ec3-3c49e52638ae",
   "metadata": {},
   "outputs": [
    {
     "data": {
      "text/plain": [
       "[HumanMessage(content='Hi.', additional_kwargs={}, response_metadata={}, name='Lance', id='2'),\n",
       " AIMessage(content='So you said you were researching ocean mammals?', additional_kwargs={}, response_metadata={}, name='Bot', id='3'),\n",
       " HumanMessage(content='Yes, I know about whales. But what others should I learn about?', additional_kwargs={}, response_metadata={}, name='Lance', id='4')]"
      ]
     },
     "execution_count": 57,
     "metadata": {},
     "output_type": "execute_result"
    }
   ],
   "source": [
    "trim_messages(\n",
    "        messages,\n",
    "        max_tokens = 35,\n",
    "        strategy = 'last',\n",
    "        allow_partial = True,\n",
    "        token_counter = ChatGoogleGenerativeAI(model='gemini-2.0-flash')\n",
    "    )\n"
   ]
  }
 ],
 "metadata": {
  "kernelspec": {
   "display_name": "Python (your_env_name)",
   "language": "python",
   "name": "your_env_name"
  },
  "language_info": {
   "codemirror_mode": {
    "name": "ipython",
    "version": 3
   },
   "file_extension": ".py",
   "mimetype": "text/x-python",
   "name": "python",
   "nbconvert_exporter": "python",
   "pygments_lexer": "ipython3",
   "version": "3.11.13"
  }
 },
 "nbformat": 4,
 "nbformat_minor": 5
}
