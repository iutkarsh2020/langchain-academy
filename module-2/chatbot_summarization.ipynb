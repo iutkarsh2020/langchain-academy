{
 "cells": [
  {
   "cell_type": "code",
   "execution_count": 1,
   "id": "ae93e010-01a0-4468-9f42-3cad0e4cebbc",
   "metadata": {},
   "outputs": [],
   "source": [
    "# Setup \n",
    "import os\n",
    "from dotenv import load_dotenv\n",
    "load_dotenv()\n",
    "\n",
    "GOOGLE_API_KEY = os.environ.get('GOOGLE_API_KEY')"
   ]
  },
  {
   "cell_type": "markdown",
   "id": "db6c0bec-efac-40a4-a277-4bbf8c3d63c3",
   "metadata": {},
   "source": [
    "### LANGSMITH IS ACTIVE FOR TRACABILITY"
   ]
  },
  {
   "cell_type": "code",
   "execution_count": 2,
   "id": "8ebbe3ce-c9c8-44b4-afd8-11e6f158b291",
   "metadata": {},
   "outputs": [
    {
     "name": "stderr",
     "output_type": "stream",
     "text": [
      "/opt/anaconda3/envs/langchainAcademy/lib/python3.11/site-packages/requests/__init__.py:86: RequestsDependencyWarning: Unable to find acceptable character detection dependency (chardet or charset_normalizer).\n",
      "  warnings.warn(\n"
     ]
    }
   ],
   "source": [
    "from langchain_google_genai import ChatGoogleGenerativeAI\n",
    "llm = ChatGoogleGenerativeAI(model = 'gemini-2.0-flash', temperature=0, google_api_key = GOOGLE_API_KEY)"
   ]
  },
  {
   "cell_type": "code",
   "execution_count": 3,
   "id": "1ddefd27-49a7-4f3d-81fd-b531441da0a3",
   "metadata": {},
   "outputs": [],
   "source": [
    "from typing import TypedDict, Annotated\n",
    "from langgraph.graph.message import add_messages\n",
    "class MessagesState(TypedDict):\n",
    "    messages: Annotated[list[str], add_messages]\n",
    "    summary: str"
   ]
  },
  {
   "cell_type": "code",
   "execution_count": 17,
   "id": "4602ca2e-a8b3-4d16-87d2-74c53935486d",
   "metadata": {},
   "outputs": [],
   "source": [
    "from langchain_core.messages import SystemMessage, HumanMessage, AnyMessage, RemoveMessage\n",
    "\n",
    "def call_model(state: MessagesState):\n",
    "    summary = state['summary']\n",
    "    if summary:\n",
    "        system_message = f'Summary of conversation earlier: {summary}'\n",
    "        messages = [SystemMessage(content = system_message)] + state['messages']\n",
    "    else:\n",
    "        messages = state['messages']\n",
    "\n",
    "    return {'messages': llm.invoke(messages)}\n",
    "\n",
    "def summarize_conversation(state: MessagesState):\n",
    "    summary = state['summary']\n",
    "    if summary:\n",
    "        summary_message = (\n",
    "            f\" This is the summary of the conversation to date: {summary}\\n\\n\"\n",
    "            \" Extend the summary by taking into account the new messages above:\"\n",
    "        )\n",
    "\n",
    "    else:\n",
    "        summary_message = \"Create a summary of the conversation above:\"\n",
    "\n",
    "    messages = state['messages'] + [HumanMessage(content = summary_message)]\n",
    "    response = llm.invoke(messages)\n",
    "\n",
    "    # now we delete all but last 2 messages from our messages\n",
    "    deleted_messages = [RemoveMessage(id = m.id) for m in state['messages'][: -3]]\n",
    "    return {'summary': response.content, 'messages': deleted_messages}"
   ]
  },
  {
   "cell_type": "code",
   "execution_count": 18,
   "id": "afb9ea38-b778-4c22-ab5d-a6a9b66c107b",
   "metadata": {},
   "outputs": [],
   "source": [
    "from langgraph.graph import END\n",
    "\n",
    "def should_continue(state: MessagesState):\n",
    "    messages = state['messages']\n",
    "\n",
    "    if len(messages) > 6:\n",
    "        return 'summarize_conversation'\n",
    "\n",
    "    return END\n",
    "\n"
   ]
  },
  {
   "cell_type": "code",
   "execution_count": 19,
   "id": "4ba1e513-8227-4bfd-a137-24bc6fd388dc",
   "metadata": {},
   "outputs": [
    {
     "data": {
      "image/png": "[encoded data removed]",
      "text/plain": [
       "<langgraph.graph.state.CompiledStateGraph object at 0x11a1e9d90>"
      ]
     },
     "execution_count": 19,
     "metadata": {},
     "output_type": "execute_result"
    }
   ],
   "source": [
    "from langgraph.checkpoint.memory import MemorySaver\n",
    "from langgraph.graph import StateGraph, START\n",
    "from IPython.display import Image, display\n",
    "\n",
    "workflow = StateGraph(MessagesState)\n",
    "workflow.add_node('conversation', call_model)\n",
    "workflow.add_node(summarize_conversation)\n",
    "\n",
    "workflow.add_edge(START, 'conversation')\n",
    "workflow.add_conditional_edges('conversation',\n",
    "  should_continue,\n",
    "  path_map={'summarize_conversation': 'summarize_conversation', '__end__': '__end__'})\n",
    "workflow.add_edge('summarize_conversation', END)\n",
    "\n",
    "memory = MemorySaver()\n",
    "\n",
    "graph = workflow.compile(checkpointer = memory)\n",
    "graph"
   ]
  },
  {
   "cell_type": "code",
   "execution_count": 20,
   "id": "540c67cb-d082-4d4f-9d62-018351ef024f",
   "metadata": {},
   "outputs": [
    {
     "name": "stdout",
     "output_type": "stream",
     "text": [
      "================================\u001b[1m Human Message \u001b[0m=================================\n",
      "\n",
      "Hi! I am Utkarsh\n",
      "==================================\u001b[1m Ai Message \u001b[0m==================================\n",
      "\n",
      "Hi Utkarsh! It's nice to meet you. How can I help you today?\n"
     ]
    }
   ],
   "source": [
    "config = {'configurable': {'thread_id':1}}\n",
    "input_message = HumanMessage(content = 'Hi! I am Utkarsh')\n",
    "output_messages = graph.invoke({'messages' : [input_message], 'summary':''}, config)\n",
    "\n",
    "for m in output_messages['messages']:\n",
    "    m.pretty_print()"
   ]
  },
  {
   "cell_type": "code",
   "execution_count": 21,
   "id": "ffac66d0-aa3b-49c3-af2f-7c2a6cdab2c2",
   "metadata": {},
   "outputs": [
    {
     "name": "stdout",
     "output_type": "stream",
     "text": [
      "================================\u001b[1m Human Message \u001b[0m=================================\n",
      "\n",
      "Hi! I am Utkarsh\n",
      "==================================\u001b[1m Ai Message \u001b[0m==================================\n",
      "\n",
      "Hi Utkarsh! It's nice to meet you. How can I help you today?\n",
      "================================\u001b[1m Human Message \u001b[0m=================================\n",
      "\n",
      "What is my name?\n",
      "==================================\u001b[1m Ai Message \u001b[0m==================================\n",
      "\n",
      "Your name is Utkarsh. You just told me! 😊\n"
     ]
    }
   ],
   "source": [
    "input_message = HumanMessage(content = 'What is my name?')\n",
    "output_messages = graph.invoke({'messages' : [input_message], 'summary':''}, config)\n",
    "\n",
    "for m in output_messages['messages']:\n",
    "    m.pretty_print()"
   ]
  },
  {
   "cell_type": "code",
   "execution_count": 22,
   "id": "1a095bf9-0bff-450e-b4c9-f5797dd09578",
   "metadata": {},
   "outputs": [
    {
     "name": "stdout",
     "output_type": "stream",
     "text": [
      "================================\u001b[1m Human Message \u001b[0m=================================\n",
      "\n",
      "Hi! I am Utkarsh\n",
      "==================================\u001b[1m Ai Message \u001b[0m==================================\n",
      "\n",
      "Hi Utkarsh! It's nice to meet you. How can I help you today?\n",
      "================================\u001b[1m Human Message \u001b[0m=================================\n",
      "\n",
      "What is my name?\n",
      "==================================\u001b[1m Ai Message \u001b[0m==================================\n",
      "\n",
      "Your name is Utkarsh. You just told me! 😊\n",
      "================================\u001b[1m Human Message \u001b[0m=================================\n",
      "\n",
      "I like the 49ers\n",
      "==================================\u001b[1m Ai Message \u001b[0m==================================\n",
      "\n",
      "That's great! The 49ers are a very popular team. What do you like about them? Are you excited about the upcoming season?\n"
     ]
    }
   ],
   "source": [
    "input_message = HumanMessage(content = 'I like the 49ers')\n",
    "output_messages = graph.invoke({'messages' : [input_message], 'summary':''}, config)\n",
    "\n",
    "for m in output_messages['messages']:\n",
    "    m.pretty_print()"
   ]
  },
  {
   "cell_type": "code",
   "execution_count": 23,
   "id": "8f6b98dc-110d-49fa-86b7-540ca85cb77c",
   "metadata": {},
   "outputs": [
    {
     "data": {
      "text/plain": [
       "StateSnapshot(values={'messages': [HumanMessage(content='Hi! I am Utkarsh', additional_kwargs={}, response_metadata={}, id='a7131e66-2ad0-4227-b050-f162fe280511'), AIMessage(content=\"Hi Utkarsh! It's nice to meet you. How can I help you today?\", additional_kwargs={}, response_metadata={'prompt_feedback': {'block_reason': 0, 'safety_ratings': []}, 'finish_reason': 'STOP', 'model_name': 'gemini-2.0-flash', 'safety_ratings': []}, id='run--2e1a2fbb-6971-447d-a01a-4e43cb6b52ce-0', usage_metadata={'input_tokens': 7, 'output_tokens': 21, 'total_tokens': 28, 'input_token_details': {'cache_read': 0}}), HumanMessage(content='What is my name?', additional_kwargs={}, response_metadata={}, id='d756a39b-d623-4130-a66c-5334a96bb558'), AIMessage(content='Your name is Utkarsh. You just told me! 😊', additional_kwargs={}, response_metadata={'prompt_feedback': {'block_reason': 0, 'safety_ratings': []}, 'finish_reason': 'STOP', 'model_name': 'gemini-2.0-flash', 'safety_ratings': []}, id='run--fecfe18f-961e-4b48-baa1-95d9f53c1c66-0', usage_metadata={'input_tokens': 32, 'output_tokens': 14, 'total_tokens': 46, 'input_token_details': {'cache_read': 0}}), HumanMessage(content='I like the 49ers', additional_kwargs={}, response_metadata={}, id='beb970d4-5b3d-4cfa-844d-70c7b5c42fa9'), AIMessage(content=\"That's great! The 49ers are a very popular team. What do you like about them? Are you excited about the upcoming season?\", additional_kwargs={}, response_metadata={'prompt_feedback': {'block_reason': 0, 'safety_ratings': []}, 'finish_reason': 'STOP', 'model_name': 'gemini-2.0-flash', 'safety_ratings': []}, id='run--6aedc892-62af-45c7-84e6-116b9ef66ff5-0', usage_metadata={'input_tokens': 52, 'output_tokens': 32, 'total_tokens': 84, 'input_token_details': {'cache_read': 0}})], 'summary': ''}, next=(), config={'configurable': {'thread_id': '1', 'checkpoint_ns': '', 'checkpoint_id': '1f04593a-d3aa-6a52-8007-deaa63241b05'}}, metadata={'source': 'loop', 'writes': {'conversation': {'messages': AIMessage(content=\"That's great! The 49ers are a very popular team. What do you like about them? Are you excited about the upcoming season?\", additional_kwargs={}, response_metadata={'prompt_feedback': {'block_reason': 0, 'safety_ratings': []}, 'finish_reason': 'STOP', 'model_name': 'gemini-2.0-flash', 'safety_ratings': []}, id='run--6aedc892-62af-45c7-84e6-116b9ef66ff5-0', usage_metadata={'input_tokens': 52, 'output_tokens': 32, 'total_tokens': 84, 'input_token_details': {'cache_read': 0}})}}, 'step': 7, 'parents': {}, 'thread_id': 1}, created_at='2025-06-10T00:41:41.729722+00:00', parent_config={'configurable': {'thread_id': '1', 'checkpoint_ns': '', 'checkpoint_id': '1f04593a-cd49-6ca8-8006-d44906960244'}}, tasks=(), interrupts=())"
      ]
     },
     "execution_count": 23,
     "metadata": {},
     "output_type": "execute_result"
    }
   ],
   "source": [
    "graph.get_state(config)"
   ]
  },
  {
   "cell_type": "code",
   "execution_count": 24,
   "id": "d0b333a8-33a2-4375-9858-262836164db0",
   "metadata": {},
   "outputs": [
    {
     "name": "stdout",
     "output_type": "stream",
     "text": [
      "==================================\u001b[1m Ai Message \u001b[0m==================================\n",
      "\n",
      "That's great! The 49ers are a very popular team. What do you like about them? Are you excited about the upcoming season?\n",
      "================================\u001b[1m Human Message \u001b[0m=================================\n",
      "\n",
      "I like Nick Bosa, isnt he the highest paid defense player?\n",
      "==================================\u001b[1m Ai Message \u001b[0m==================================\n",
      "\n",
      "You're right, Nick Bosa is a fantastic player! And yes, he is currently the highest-paid defensive player in the NFL. He signed a massive contract extension with the 49ers in 2023. He definitely earned it with his performance!\n"
     ]
    }
   ],
   "source": [
    "input_message = HumanMessage(content = 'I like Nick Bosa, isnt he the highest paid defense player?')\n",
    "output_messages = graph.invoke({'messages' : [input_message], 'summary':''}, config)\n",
    "\n",
    "for m in output_messages['messages']:\n",
    "    m.pretty_print()"
   ]
  },
  {
   "cell_type": "code",
   "execution_count": 25,
   "id": "e6675dad-2365-4e54-a5c5-37f6cb09940e",
   "metadata": {},
   "outputs": [
    {
     "data": {
      "text/plain": [
       "StateSnapshot(values={'messages': [AIMessage(content=\"That's great! The 49ers are a very popular team. What do you like about them? Are you excited about the upcoming season?\", additional_kwargs={}, response_metadata={'prompt_feedback': {'block_reason': 0, 'safety_ratings': []}, 'finish_reason': 'STOP', 'model_name': 'gemini-2.0-flash', 'safety_ratings': []}, id='run--6aedc892-62af-45c7-84e6-116b9ef66ff5-0', usage_metadata={'input_tokens': 52, 'output_tokens': 32, 'total_tokens': 84, 'input_token_details': {'cache_read': 0}}), HumanMessage(content='I like Nick Bosa, isnt he the highest paid defense player?', additional_kwargs={}, response_metadata={}, id='caff7ffb-09bc-4ed7-81c0-5302f687739d'), AIMessage(content=\"You're right, Nick Bosa is a fantastic player! And yes, he is currently the highest-paid defensive player in the NFL. He signed a massive contract extension with the 49ers in 2023. He definitely earned it with his performance!\", additional_kwargs={}, response_metadata={'prompt_feedback': {'block_reason': 0, 'safety_ratings': []}, 'finish_reason': 'STOP', 'model_name': 'gemini-2.0-flash', 'safety_ratings': []}, id='run--d0fd9bc8-cd60-492b-84af-c2225ff6254e-0', usage_metadata={'input_tokens': 97, 'output_tokens': 57, 'total_tokens': 154, 'input_token_details': {'cache_read': 0}})], 'summary': \"Okay, here's a summary of our conversation:\\n\\nWe started with me introducing myself as Utkarsh. I asked what I could help with. Utkarsh then asked me what his name was, which I correctly identified as Utkarsh. Utkarsh then mentioned liking the 49ers, and I inquired about what he liked about them and the upcoming season. Finally, Utkarsh stated his appreciation for Nick Bosa and correctly identified him as the highest-paid defensive player in the NFL, which I confirmed.\"}, next=(), config={'configurable': {'thread_id': '1', 'checkpoint_ns': '', 'checkpoint_id': '1f045945-a9a1-6de0-800b-92da2107c0b2'}}, metadata={'source': 'loop', 'writes': {'summarize_conversation': {'summary': \"Okay, here's a summary of our conversation:\\n\\nWe started with me introducing myself as Utkarsh. I asked what I could help with. Utkarsh then asked me what his name was, which I correctly identified as Utkarsh. Utkarsh then mentioned liking the 49ers, and I inquired about what he liked about them and the upcoming season. Finally, Utkarsh stated his appreciation for Nick Bosa and correctly identified him as the highest-paid defensive player in the NFL, which I confirmed.\", 'messages': [RemoveMessage(content='', additional_kwargs={}, response_metadata={}, id='a7131e66-2ad0-4227-b050-f162fe280511'), RemoveMessage(content='', additional_kwargs={}, response_metadata={}, id='run--2e1a2fbb-6971-447d-a01a-4e43cb6b52ce-0'), RemoveMessage(content='', additional_kwargs={}, response_metadata={}, id='d756a39b-d623-4130-a66c-5334a96bb558'), RemoveMessage(content='', additional_kwargs={}, response_metadata={}, id='run--fecfe18f-961e-4b48-baa1-95d9f53c1c66-0'), RemoveMessage(content='', additional_kwargs={}, response_metadata={}, id='beb970d4-5b3d-4cfa-844d-70c7b5c42fa9')]}}, 'step': 11, 'parents': {}, 'thread_id': '1'}, created_at='2025-06-10T00:46:32.601119+00:00', parent_config={'configurable': {'thread_id': '1', 'checkpoint_ns': '', 'checkpoint_id': '1f045945-9faa-630a-800a-27537b17f8ed'}}, tasks=(), interrupts=())"
      ]
     },
     "execution_count": 25,
     "metadata": {},
     "output_type": "execute_result"
    }
   ],
   "source": [
    "graph.get_state(config)"
   ]
  }
 ],
 "metadata": {
  "kernelspec": {
   "display_name": "Python (your_env_name)",
   "language": "python",
   "name": "your_env_name"
  },
  "language_info": {
   "codemirror_mode": {
    "name": "ipython",
    "version": 3
   },
   "file_extension": ".py",
   "mimetype": "text/x-python",
   "name": "python",
   "nbconvert_exporter": "python",
   "pygments_lexer": "ipython3",
   "version": "3.11.13"
  }
 },
 "nbformat": 4,
 "nbformat_minor": 5
}
