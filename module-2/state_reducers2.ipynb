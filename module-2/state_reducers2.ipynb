{
 "cells": [
  {
   "cell_type": "code",
   "execution_count": 1,
   "id": "d5d0908d-b238-4f45-b684-9071e1231279",
   "metadata": {},
   "outputs": [
    {
     "name": "stderr",
     "output_type": "stream",
     "text": [
      "/opt/anaconda3/envs/langchainAcademy/lib/python3.11/site-packages/requests/__init__.py:86: RequestsDependencyWarning: Unable to find acceptable character detection dependency (chardet or charset_normalizer).\n",
      "  warnings.warn(\n"
     ]
    }
   ],
   "source": [
    "from typing import TypedDict\n",
    "from langchain_google_genai import ChatGoogleGenerativeAI\n",
    "from dotenv import load_dotenv\n",
    "import os\n",
    "\n",
    "load_dotenv()\n",
    "\n",
    "GOOGLE_API_KEY = os.environ.get(\"GOOGLE_API_KEY\")"
   ]
  },
  {
   "cell_type": "code",
   "execution_count": 5,
   "id": "75bf78b8-913b-4d6e-8b8e-9e732907f191",
   "metadata": {},
   "outputs": [],
   "source": [
    "from langgraph.graph import StateGraph, START,END\n",
    "from langgraph.checkpoint.memory import MemorySaver\n",
    "class State(TypedDict):\n",
    "    foo: int\n",
    "\n",
    "def node1(state:State):\n",
    "    return {'foo': state['foo'] + 1}\n",
    "\n",
    "builder = StateGraph(State)\n",
    "builder.add_node('node1', node1)\n",
    "builder.add_edge(START, 'node1')\n",
    "graph_memory = builder.compile(checkpointer = MemorySaver())"
   ]
  },
  {
   "cell_type": "code",
   "execution_count": 4,
   "id": "39fa099d-2207-4cd8-a5d3-973ca763ff6c",
   "metadata": {},
   "outputs": [
    {
     "data": {
      "text/plain": [
       "{'foo': 4}"
      ]
     },
     "execution_count": 4,
     "metadata": {},
     "output_type": "execute_result"
    }
   ],
   "source": [
    "config = {'configurable': {'thread_id':1}}\n",
    "graph_memory.invoke({'foo':3}, config)"
   ]
  },
  {
   "cell_type": "markdown",
   "id": "cf09b2a9-786d-4f18-a291-304289584433",
   "metadata": {},
   "source": [
    "### Lets look at a simple case of branching"
   ]
  },
  {
   "cell_type": "code",
   "execution_count": 6,
   "id": "c1c48a53-ce23-4f56-9e4f-da0566e46c2f",
   "metadata": {},
   "outputs": [
    {
     "data": {
      "image/png": "[encoded data removed]",
      "text/plain": [
       "<langgraph.graph.state.CompiledStateGraph object at 0x108dad8d0>"
      ]
     },
     "execution_count": 6,
     "metadata": {},
     "output_type": "execute_result"
    }
   ],
   "source": [
    "def node2(state:State):\n",
    "    return {'foo': state['foo'] + 1}\n",
    "\n",
    "def node3(state:State):\n",
    "    return {'foo': state['foo'] + 1}\n",
    "\n",
    "builder = StateGraph(State)\n",
    "builder.add_node('node1', node1)\n",
    "builder.add_node('node2', node2)\n",
    "builder.add_node('node3', node3)\n",
    "\n",
    "# LOGIC\n",
    "builder.add_edge(START, 'node1')\n",
    "builder.add_edge('node1', 'node2')\n",
    "builder.add_edge('node1', 'node3')\n",
    "builder.add_edge('node2', END)\n",
    "builder.add_edge('node3', END)\n",
    "\n",
    "graph = builder.compile(checkpointer = MemorySaver())\n",
    "\n",
    "graph"
   ]
  },
  {
   "cell_type": "code",
   "execution_count": 9,
   "id": "42009a9b-cee9-43d2-84e3-51933561b6ba",
   "metadata": {},
   "outputs": [
    {
     "name": "stdout",
     "output_type": "stream",
     "text": [
      "invalid update At key 'foo': Can receive only one value per step. Use an Annotated key to handle multiple values.\n",
      "For troubleshooting, visit: https://python.langchain.com/docs/troubleshooting/errors/INVALID_CONCURRENT_GRAPH_UPDATE\n"
     ]
    }
   ],
   "source": [
    "from langgraph.errors import InvalidUpdateError\n",
    "\n",
    "try:\n",
    "    graph.invoke({'foo': 1}, config)\n",
    "except InvalidUpdateError as e:\n",
    "    print('invalid update', e)\n",
    "\n"
   ]
  },
  {
   "cell_type": "markdown",
   "id": "24236675-7304-48b0-89ec-918f438a405d",
   "metadata": {},
   "source": [
    "### Reducers help in solving this problem, we can specify how we want updates to be made if 2 nodes are updating same data in the same step"
   ]
  },
  {
   "cell_type": "code",
   "execution_count": 21,
   "id": "c013271d-0db7-4546-8bb3-1e6e41fc3fc9",
   "metadata": {},
   "outputs": [],
   "source": [
    "from typing import Annotated\n",
    "from operator import add\n",
    "class States(TypedDict):\n",
    "    foo: Annotated[list[int], add]\n",
    "\n",
    "# now this appends"
   ]
  },
  {
   "cell_type": "code",
   "execution_count": 25,
   "id": "eef5e479-065b-42d9-8d15-0e8e42d5cd78",
   "metadata": {},
   "outputs": [
    {
     "data": {
      "image/png": "[encoded data removed]",
      "text/plain": [
       "<langgraph.graph.state.CompiledStateGraph object at 0x12b6f4890>"
      ]
     },
     "execution_count": 25,
     "metadata": {},
     "output_type": "execute_result"
    }
   ],
   "source": [
    "def node1(state:States):\n",
    "    return {'foo': [state['foo'][-1] + 1]}\n",
    "    \n",
    "def node2(state:States):\n",
    "    return {'foo': [state['foo'][-1] + 1]}\n",
    "\n",
    "def node3(state:States):\n",
    "    return {'foo': [state['foo'][-1] + 1]}\n",
    "\n",
    "builder = StateGraph(States)\n",
    "builder.add_node('node1', node1)\n",
    "builder.add_node('node2', node2)\n",
    "builder.add_node('node3', node3)\n",
    "\n",
    "# LOGIC\n",
    "builder.add_edge(START, 'node1')\n",
    "builder.add_edge('node1', 'node2')\n",
    "builder.add_edge('node1', 'node3')\n",
    "builder.add_edge('node2', END)\n",
    "builder.add_edge('node3', END)\n",
    "\n",
    "graph = builder.compile(checkpointer = MemorySaver())\n",
    "\n",
    "graph"
   ]
  },
  {
   "cell_type": "code",
   "execution_count": 31,
   "id": "20c65205-8710-4611-8eff-3abb100dd51b",
   "metadata": {},
   "outputs": [
    {
     "data": {
      "text/plain": [
       "{'foo': [1,\n",
       "  2,\n",
       "  3,\n",
       "  3,\n",
       "  1,\n",
       "  2,\n",
       "  3,\n",
       "  3,\n",
       "  1,\n",
       "  2,\n",
       "  3,\n",
       "  3,\n",
       "  1,\n",
       "  2,\n",
       "  3,\n",
       "  3,\n",
       "  1,\n",
       "  2,\n",
       "  3,\n",
       "  3,\n",
       "  1,\n",
       "  2,\n",
       "  3,\n",
       "  3]}"
      ]
     },
     "execution_count": 31,
     "metadata": {},
     "output_type": "execute_result"
    }
   ],
   "source": [
    "from langgraph.errors import InvalidUpdateError\n",
    "\n",
    "\n",
    "graph.invoke({'foo': [1]}, config)"
   ]
  },
  {
   "cell_type": "markdown",
   "id": "94ad1ab9-1393-4768-a401-f4f8c9533c44",
   "metadata": {},
   "source": [
    "### We can create a custom reducer"
   ]
  },
  {
   "cell_type": "code",
   "execution_count": 32,
   "id": "6e09fccc-6130-4390-a519-117b339f28ca",
   "metadata": {},
   "outputs": [],
   "source": [
    "def custom_add(a, b):\n",
    "    ''' adds two lists '''\n",
    "    if not a:\n",
    "        a = []\n",
    "    if not b :\n",
    "        b = []\n",
    "    return a + b\n",
    "\n",
    "class States(TypedDict):\n",
    "    foo: Annotated[list[int], custom_add]"
   ]
  }
 ],
 "metadata": {
  "kernelspec": {
   "display_name": "Python (your_env_name)",
   "language": "python",
   "name": "your_env_name"
  },
  "language_info": {
   "codemirror_mode": {
    "name": "ipython",
    "version": 3
   },
   "file_extension": ".py",
   "mimetype": "text/x-python",
   "name": "python",
   "nbconvert_exporter": "python",
   "pygments_lexer": "ipython3",
   "version": "3.11.13"
  }
 },
 "nbformat": 4,
 "nbformat_minor": 5
}
